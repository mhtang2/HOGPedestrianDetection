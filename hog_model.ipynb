{
 "cells": [
  {
   "cell_type": "code",
   "execution_count": 85,
   "metadata": {},
   "outputs": [],
   "source": [
    "%matplotlib inline\n",
    "import torch\n",
    "import pandas as pd\n",
    "import numpy as np\n",
    "import gdown\n",
    "import zipfile\n",
    "import json\n",
    "import os\n",
    "from torch.utils.data import Dataset, DataLoader, random_split\n",
    "from torchvision import transforms, utils\n",
    "from torchvision.transforms.functional import to_pil_image\n",
    "from torchvision.io import read_image \n",
    "import torchvision\n",
    "import torch.nn as nn\n",
    "import PIL\n",
    "from sklearn.metrics import confusion_matrix, roc_curve, auc\n",
    "from time import time\n",
    "from tqdm import tqdm\n",
    "import matplotlib.pyplot as plt"
   ]
  },
  {
   "cell_type": "code",
   "execution_count": 86,
   "metadata": {},
   "outputs": [
    {
     "data": {
      "text/plain": [
       "'cuda'"
      ]
     },
     "execution_count": 86,
     "metadata": {},
     "output_type": "execute_result"
    }
   ],
   "source": [
    "device = 'cuda' if torch.cuda.is_available() else 'cpu'\n",
    "device"
   ]
  },
  {
   "cell_type": "markdown",
   "metadata": {},
   "source": [
    "# Load dataset"
   ]
  },
  {
   "cell_type": "code",
   "execution_count": 4,
   "metadata": {},
   "outputs": [],
   "source": [
    "def select_equal_samples(data, label_column='label'):\n",
    "    \"\"\" Select equal # of pos/neg samples \"\"\"\n",
    "    positive_samples = data[data[label_column] == True]\n",
    "    negative_samples = data[data[label_column] == False]\n",
    "\n",
    "    # Determine the number of samples to select (minimum of positive and negative samples)\n",
    "    num_samples = min(len(positive_samples), len(negative_samples))\n",
    "\n",
    "    # Randomly select equal number of positive and negative samples without replacement\n",
    "    selected_positive_samples = positive_samples.sample(n=num_samples, random_state=42, replace=False)\n",
    "    selected_negative_samples = negative_samples.sample(n=num_samples, random_state=42, replace=False)\n",
    "\n",
    "    # Concatenate the selected samples\n",
    "    selected_samples = pd.concat([selected_positive_samples, selected_negative_samples])\n",
    "\n",
    "    return selected_samples"
   ]
  },
  {
   "cell_type": "code",
   "execution_count": 5,
   "metadata": {},
   "outputs": [],
   "source": [
    "class HOG_PedestrianClassificationDataset(Dataset):\n",
    "\n",
    "    def __init__(self, labels_csv, root_dir, balance_labels=True, transform=None):\n",
    "        self.labels = pd.read_csv(labels_csv)\n",
    "        if balance_labels:\n",
    "            self.labels = select_equal_samples(self.labels)\n",
    "        self.root_dir = root_dir\n",
    "        self.transform = transform\n",
    "        self.class_to_idx = {True: 1, False: 0}\n",
    "        # self.image_files = sorted(self.labels['image'])\n",
    "\n",
    "    def __len__(self):\n",
    "        return len(self.labels)\n",
    "\n",
    "    def __getitem__(self, idx):\n",
    "        row = self.labels.iloc[idx]\n",
    "        image_name = row['image'] + \".npy\"\n",
    "        image_name = os.path.join(self.root_dir, image_name) \n",
    "        image = np.load(image_name)\n",
    "        image = image.reshape(image.shape[0], image.shape[1], -1) # flatten last 3 dimensions\n",
    "        image = torch.from_numpy(image.transpose((2,0,1))).float()\n",
    "        label = self.class_to_idx[row['label']]\n",
    "        if self.transform:\n",
    "            image = self.transform(image)\n",
    "        return (image, label)"
   ]
  },
  {
   "cell_type": "code",
   "execution_count": 6,
   "metadata": {},
   "outputs": [
    {
     "name": "stdout",
     "output_type": "stream",
     "text": [
      "Dataset len:  5174\n",
      "torch.Size([36, 23, 35])\n"
     ]
    }
   ],
   "source": [
    "dataset = HOG_PedestrianClassificationDataset(\"./processed_labels.csv\",\"./road-waymo/hog-fd/\", balance_labels=True, transform = None)\n",
    "print(f\"Dataset len:  {len(dataset)}\")\n",
    "\n",
    "sample = dataset[5000]\n",
    "print(sample[0].shape)\n",
    "# to_pil_image(sample[0])"
   ]
  },
  {
   "cell_type": "code",
   "execution_count": 7,
   "metadata": {},
   "outputs": [],
   "source": [
    "# Split training and testing\n",
    "train_ratio = 0.8\n",
    "val_ratio = 0.1\n",
    "\n",
    "dataset_size = len(dataset)\n",
    "train_size = int(train_ratio * dataset_size)\n",
    "val_size = int(val_ratio * dataset_size)\n",
    "test_size = dataset_size - train_size - val_size\n",
    "\n",
    "# Use random_split to split the dataset into training and testing sets.\n",
    "torch.manual_seed(0)\n",
    "train_dataset, val_dataset, test_dataset = random_split(dataset, [train_size, val_size, test_size])"
   ]
  },
  {
   "cell_type": "code",
   "execution_count": 8,
   "metadata": {},
   "outputs": [],
   "source": [
    "batch_size = 64\n",
    "train_dataloader = DataLoader(train_dataset, batch_size=batch_size, shuffle=True)\n",
    "val_dataloader = DataLoader(val_dataset, batch_size=batch_size, shuffle=True)\n",
    "test_dataloader = DataLoader(test_dataset, batch_size=batch_size, shuffle=True)"
   ]
  },
  {
   "cell_type": "code",
   "execution_count": 52,
   "metadata": {},
   "outputs": [
    {
     "data": {
      "text/plain": [
       "torch.Size([64, 36, 23, 35])"
      ]
     },
     "execution_count": 52,
     "metadata": {},
     "output_type": "execute_result"
    }
   ],
   "source": [
    "next(iter(train_dataloader))[0].shape"
   ]
  },
  {
   "cell_type": "markdown",
   "metadata": {},
   "source": [
    "# Experiments"
   ]
  },
  {
   "cell_type": "code",
   "execution_count": 10,
   "metadata": {},
   "outputs": [],
   "source": [
    "num_epoch = 15 # TODO: change num_epoch to like 10 or 15 or something\n",
    "def train(model, train_dataloader, val_dataloader, save_path):\n",
    "    \n",
    "    criterion = torch.nn.CrossEntropyLoss()\n",
    "    optimizer =  torch.optim.SGD(model.parameters(), lr=0.001, momentum=0.9)\n",
    "\n",
    "    best_accuracy = 0.0\n",
    "    val_error = []\n",
    "    train_error = []\n",
    "    \n",
    "    for epoch in tqdm(range(num_epoch), desc=\"epochs\"):  # loop over the dataset multiple times\n",
    "        model.train()\n",
    "        starttime = time()\n",
    "        trainloss = 0\n",
    "        for train_data in tqdm(train_dataloader, desc=\"training 1 epoch\"):\n",
    "            # get the inputs; data is a list of [inputs, labels]\n",
    "            inputs, labels = train_data\n",
    "\n",
    "            inputs = inputs.to(device)\n",
    "            labels = labels.to(device)\n",
    "\n",
    "            # zero the parameter gradients\n",
    "            optimizer.zero_grad()\n",
    "\n",
    "            # forward + backward + optimize\n",
    "            outputs = model(inputs)\n",
    "            loss = criterion(outputs, labels)\n",
    "            loss.backward()\n",
    "            trainloss += loss.cpu().item()\n",
    "            optimizer.step()\n",
    "            # break # TODO: delete this\n",
    "        \n",
    "        traintime = time() - starttime\n",
    "        print(f\"Epoch train time: {traintime}   Time per sample: {traintime / len(train_dataloader.dataset)}\")\n",
    "        train_error.append(trainloss / len(train_dataloader))\n",
    "        \n",
    "        # Validate\n",
    "        valloss = 0\n",
    "        correct = 0\n",
    "        total = 0\n",
    "        model.eval()\n",
    "        all_predicted = torch.tensor([]).to(device)\n",
    "        all_labels = torch.tensor([]).to(device)\n",
    "        all_pred_probs = torch.tensor([]).to(device)\n",
    "        with torch.no_grad():\n",
    "            for images, labels in tqdm(val_dataloader, desc=\"Validating\"):\n",
    "                images = images.to(device)\n",
    "                labels = labels.to(device)\n",
    "\n",
    "                # calculate outputs by running images through the network\n",
    "                outputs = model(images)\n",
    "                valloss += criterion(outputs, labels).cpu().item()\n",
    "                \n",
    "                # the class with the highest energy is what we choose as prediction\n",
    "                _, predicted = torch.max(outputs.data, 1)\n",
    "                total += labels.size(0)\n",
    "                correct += (predicted == labels).sum().item()\n",
    "                all_predicted = torch.cat((all_predicted, predicted))\n",
    "                all_labels = torch.cat((all_labels, labels))\n",
    "                all_pred_probs = torch.cat((all_pred_probs, outputs.data))\n",
    "                # break # TODO: delete this\n",
    "\n",
    "        val_error.append(valloss / len(val_dataloader))\n",
    "        \n",
    "        conf_matrix = confusion_matrix(all_labels.cpu(), all_predicted.cpu())\n",
    "        print(\"Val confusion matrix:\")\n",
    "        print(conf_matrix)\n",
    "        print(f\"{conf_matrix[0].sum().item()} frames don't have pedestrian, {conf_matrix[1].sum().item()} frames have pedestrian\")\n",
    "        \n",
    "        tp = conf_matrix[0,0]\n",
    "        fp = conf_matrix[1,0]\n",
    "        fn = conf_matrix[0,1]\n",
    "        print(f\"TP: {tp}, FP: {fp}, FN: {fn}\")\n",
    "        print(f\"Precision: {tp/(tp+fp)}, Recall: {tp/(tp+fn)}\")\n",
    "\n",
    "        accuracy = 100 * correct / total\n",
    "        if accuracy > best_accuracy:\n",
    "            best_accuracy = accuracy\n",
    "            print(f\"Epoch {epoch}: Saving model to {save_path} with val accuracy {accuracy}%\")\n",
    "            torch.save(model.state_dict(), save_path)\n",
    "    return train_error, val_error"
   ]
  },
  {
   "cell_type": "code",
   "execution_count": 212,
   "metadata": {},
   "outputs": [],
   "source": [
    "# define model types\n",
    "def resnet18_hog():\n",
    "    model = torchvision.models.resnet18(weights = None)\n",
    "    model.conv1 = torch.nn.Conv2d(2*2*9, 64, kernel_size=(7, 7), stride=(2, 2), padding=(3, 3), bias=False)\n",
    "    model.fc = torch.nn.Linear(in_features=512, out_features=2, bias=True)\n",
    "    return model\n",
    "\n",
    "def linear_hog():\n",
    "    model = nn.Sequential(\n",
    "        nn.Flatten(),\n",
    "        nn.Linear(28980, 2, bias=True)\n",
    "    )\n",
    "    return model\n",
    "\n",
    "class conv1_hog(nn.Module):\n",
    "    def __init__(self):\n",
    "        super().__init__()\n",
    "        \n",
    "        self.model = nn.Sequential(\n",
    "        nn.Conv2d(9, 1, kernel_size=(16, 8)),\n",
    "        nn.Flatten(),\n",
    "        nn.Linear(1953,2)\n",
    "        )\n",
    "    def forward(self,x):\n",
    "        x = x.view(-1,9,46,70)\n",
    "        return self.model(x)"
   ]
  },
  {
   "cell_type": "code",
   "execution_count": 213,
   "metadata": {},
   "outputs": [
    {
     "name": "stdout",
     "output_type": "stream",
     "text": [
      "Failed to load Saved Model\n",
      "Error(s) in loading state_dict for DataParallel:\n",
      "\tsize mismatch for module.model.2.weight: copying a param with shape torch.Size([2, 2553]) from checkpoint, the shape in current model is torch.Size([2, 1953]).\n"
     ]
    },
    {
     "data": {
      "text/plain": [
       "DataParallel(\n",
       "  (module): conv1_hog(\n",
       "    (model): Sequential(\n",
       "      (0): Conv2d(9, 1, kernel_size=(16, 8), stride=(1, 1))\n",
       "      (1): Flatten(start_dim=1, end_dim=-1)\n",
       "      (2): Linear(in_features=1953, out_features=2, bias=True)\n",
       "    )\n",
       "  )\n",
       ")"
      ]
     },
     "execution_count": 213,
     "metadata": {},
     "output_type": "execute_result"
    }
   ],
   "source": [
    "save_path = \"./checkpoints/resnet18_HOG_fd_conv1\"\n",
    "model = conv1_hog()\n",
    "\n",
    "\n",
    "model = torch.nn.DataParallel(model)\n",
    "try:\n",
    "    model.load_state_dict(torch.load(save_path))\n",
    "    print(\"Successfully Loaded Saved Model\")\n",
    "except Exception as error:\n",
    "    print(\"Failed to load Saved Model\")\n",
    "    print(error)\n",
    "model.to(device)"
   ]
  },
  {
   "cell_type": "code",
   "execution_count": 214,
   "metadata": {},
   "outputs": [
    {
     "name": "stderr",
     "output_type": "stream",
     "text": [
      "epochs:   0%|                                           | 0/15 [00:00<?, ?it/s]\n",
      "training 1 epoch:   0%|                                 | 0/65 [00:00<?, ?it/s]\u001b[A\n",
      "training 1 epoch:   2%|▍                        | 1/65 [00:00<00:08,  7.11it/s]\u001b[A\n",
      "training 1 epoch:   5%|█▏                       | 3/65 [00:00<00:06,  9.99it/s]\u001b[A\n",
      "training 1 epoch:   9%|██▎                      | 6/65 [00:00<00:03, 16.38it/s]\u001b[A\n",
      "training 1 epoch:  14%|███▍                     | 9/65 [00:00<00:02, 19.23it/s]\u001b[A\n",
      "training 1 epoch:  18%|████▍                   | 12/65 [00:00<00:02, 21.83it/s]\u001b[A\n",
      "training 1 epoch:  23%|█████▌                  | 15/65 [00:00<00:02, 22.57it/s]\u001b[A\n",
      "training 1 epoch:  28%|██████▋                 | 18/65 [00:00<00:01, 24.03it/s]\u001b[A\n",
      "training 1 epoch:  32%|███████▊                | 21/65 [00:01<00:01, 23.99it/s]\u001b[A\n",
      "training 1 epoch:  37%|████████▊               | 24/65 [00:01<00:01, 24.99it/s]\u001b[A\n",
      "training 1 epoch:  42%|█████████▉              | 27/65 [00:01<00:01, 24.67it/s]\u001b[A\n",
      "training 1 epoch:  46%|███████████             | 30/65 [00:01<00:01, 25.45it/s]\u001b[A\n",
      "training 1 epoch:  51%|████████████▏           | 33/65 [00:01<00:01, 24.99it/s]\u001b[A\n",
      "training 1 epoch:  55%|█████████████▎          | 36/65 [00:01<00:01, 25.68it/s]\u001b[A\n",
      "training 1 epoch:  60%|██████████████▍         | 39/65 [00:01<00:01, 25.15it/s]\u001b[A\n",
      "training 1 epoch:  65%|███████████████▌        | 42/65 [00:01<00:00, 25.69it/s]\u001b[A\n",
      "training 1 epoch:  69%|████████████████▌       | 45/65 [00:01<00:00, 25.25it/s]\u001b[A\n",
      "training 1 epoch:  74%|█████████████████▋      | 48/65 [00:02<00:00, 25.87it/s]\u001b[A\n",
      "training 1 epoch:  78%|██████████████████▊     | 51/65 [00:02<00:00, 24.32it/s]\u001b[A\n",
      "training 1 epoch:  83%|███████████████████▉    | 54/65 [00:02<00:00, 22.51it/s]\u001b[A\n",
      "training 1 epoch:  88%|█████████████████████   | 57/65 [00:02<00:00, 21.40it/s]\u001b[A\n",
      "training 1 epoch:  92%|██████████████████████▏ | 60/65 [00:02<00:00, 20.68it/s]\u001b[A\n",
      "training 1 epoch: 100%|████████████████████████| 65/65 [00:02<00:00, 22.24it/s]\u001b[A\n"
     ]
    },
    {
     "name": "stdout",
     "output_type": "stream",
     "text": [
      "Epoch train time: 2.938784122467041   Time per sample: 0.000710022740388268\n"
     ]
    },
    {
     "name": "stderr",
     "output_type": "stream",
     "text": [
      "\n",
      "Validating:   0%|                                        | 0/9 [00:00<?, ?it/s]\u001b[A\n",
      "Validating:  33%|██████████▋                     | 3/9 [00:00<00:00, 21.33it/s]\u001b[A\n",
      "Validating: 100%|████████████████████████████████| 9/9 [00:00<00:00, 24.00it/s]\u001b[A\n",
      "epochs:   7%|██▎                                | 1/15 [00:03<00:46,  3.35s/it]"
     ]
    },
    {
     "name": "stdout",
     "output_type": "stream",
     "text": [
      "Val confusion matrix:\n",
      "[[200  55]\n",
      " [ 58 204]]\n",
      "255 frames don't have pedestrian, 262 frames have pedestrian\n",
      "TP: 200, FP: 58, FN: 55\n",
      "Precision: 0.7751937984496124, Recall: 0.7843137254901961\n",
      "Epoch 0: Saving model to ./checkpoints/resnet18_HOG_fd_conv1 with val accuracy 78.14313346228239%\n"
     ]
    },
    {
     "name": "stderr",
     "output_type": "stream",
     "text": [
      "\n",
      "training 1 epoch:   0%|                                 | 0/65 [00:00<?, ?it/s]\u001b[A\n",
      "training 1 epoch:   5%|█▏                       | 3/65 [00:00<00:03, 19.20it/s]\u001b[A\n",
      "training 1 epoch:   9%|██▎                      | 6/65 [00:00<00:03, 19.20it/s]\u001b[A\n",
      "training 1 epoch:  12%|███                      | 8/65 [00:00<00:03, 18.86it/s]\u001b[A\n",
      "training 1 epoch:  17%|████                    | 11/65 [00:00<00:02, 19.01it/s]\u001b[A\n",
      "training 1 epoch:  22%|█████▏                  | 14/65 [00:00<00:02, 19.06it/s]\u001b[A\n",
      "training 1 epoch:  26%|██████▎                 | 17/65 [00:00<00:02, 19.11it/s]\u001b[A\n",
      "training 1 epoch:  31%|███████▍                | 20/65 [00:01<00:02, 19.14it/s]\u001b[A\n",
      "training 1 epoch:  34%|████████                | 22/65 [00:01<00:02, 18.93it/s]\u001b[A\n",
      "training 1 epoch:  38%|█████████▏              | 25/65 [00:01<00:02, 19.02it/s]\u001b[A\n",
      "training 1 epoch:  43%|██████████▎             | 28/65 [00:01<00:01, 19.08it/s]\u001b[A\n",
      "training 1 epoch:  46%|███████████             | 30/65 [00:01<00:01, 18.88it/s]\u001b[A\n",
      "training 1 epoch:  51%|████████████▏           | 33/65 [00:01<00:01, 18.99it/s]\u001b[A\n",
      "training 1 epoch:  55%|█████████████▎          | 36/65 [00:01<00:01, 19.06it/s]\u001b[A\n",
      "training 1 epoch:  60%|██████████████▍         | 39/65 [00:02<00:01, 19.10it/s]\u001b[A\n",
      "training 1 epoch:  63%|███████████████▏        | 41/65 [00:02<00:01, 18.91it/s]\u001b[A\n",
      "training 1 epoch:  68%|████████████████▏       | 44/65 [00:02<00:01, 19.00it/s]\u001b[A\n",
      "training 1 epoch:  72%|█████████████████▎      | 47/65 [00:02<00:00, 19.07it/s]\u001b[A\n",
      "training 1 epoch:  77%|██████████████████▍     | 50/65 [00:02<00:00, 19.09it/s]\u001b[A\n",
      "training 1 epoch:  80%|███████████████████▏    | 52/65 [00:02<00:00, 18.90it/s]\u001b[A\n",
      "training 1 epoch:  85%|████████████████████▎   | 55/65 [00:02<00:00, 18.98it/s]\u001b[A\n",
      "training 1 epoch:  89%|█████████████████████▍  | 58/65 [00:03<00:00, 19.05it/s]\u001b[A\n",
      "training 1 epoch:  94%|██████████████████████▌ | 61/65 [00:03<00:00, 19.10it/s]\u001b[A\n",
      "training 1 epoch: 100%|████████████████████████| 65/65 [00:03<00:00, 19.07it/s]\u001b[A\n"
     ]
    },
    {
     "name": "stdout",
     "output_type": "stream",
     "text": [
      "Epoch train time: 3.408146858215332   Time per sample: 0.0008234227731856323\n"
     ]
    },
    {
     "name": "stderr",
     "output_type": "stream",
     "text": [
      "\n",
      "Validating:   0%|                                        | 0/9 [00:00<?, ?it/s]\u001b[A\n",
      "Validating:  33%|██████████▋                     | 3/9 [00:00<00:00, 21.33it/s]\u001b[A\n",
      "Validating:  67%|█████████████████████▎          | 6/9 [00:00<00:00, 21.33it/s]\u001b[A\n",
      "Validating: 100%|████████████████████████████████| 9/9 [00:00<00:00, 22.15it/s]\u001b[A\n",
      "epochs:  13%|████▋                              | 2/15 [00:07<00:47,  3.62s/it]"
     ]
    },
    {
     "name": "stdout",
     "output_type": "stream",
     "text": [
      "Val confusion matrix:\n",
      "[[207  48]\n",
      " [ 40 222]]\n",
      "255 frames don't have pedestrian, 262 frames have pedestrian\n",
      "TP: 207, FP: 40, FN: 48\n",
      "Precision: 0.8380566801619433, Recall: 0.8117647058823529\n",
      "Epoch 1: Saving model to ./checkpoints/resnet18_HOG_fd_conv1 with val accuracy 82.97872340425532%\n"
     ]
    },
    {
     "name": "stderr",
     "output_type": "stream",
     "text": [
      "\n",
      "training 1 epoch:   0%|                                 | 0/65 [00:00<?, ?it/s]\u001b[A\n",
      "training 1 epoch:   5%|█▏                       | 3/65 [00:00<00:03, 19.20it/s]\u001b[A\n",
      "training 1 epoch:   9%|██▎                      | 6/65 [00:00<00:03, 19.20it/s]\u001b[A\n",
      "training 1 epoch:  12%|███                      | 8/65 [00:00<00:03, 18.86it/s]\u001b[A\n",
      "training 1 epoch:  17%|████                    | 11/65 [00:00<00:02, 19.01it/s]\u001b[A\n",
      "training 1 epoch:  22%|█████▏                  | 14/65 [00:00<00:02, 19.08it/s]\u001b[A\n",
      "training 1 epoch:  25%|█████▉                  | 16/65 [00:00<00:02, 18.85it/s]\u001b[A\n",
      "training 1 epoch:  29%|███████                 | 19/65 [00:01<00:02, 18.97it/s]\u001b[A\n",
      "training 1 epoch:  32%|███████▊                | 21/65 [00:01<00:02, 18.79it/s]\u001b[A\n",
      "training 1 epoch:  37%|████████▊               | 24/65 [00:01<00:02, 18.93it/s]\u001b[A\n",
      "training 1 epoch:  40%|█████████▌              | 26/65 [00:01<00:02, 18.77it/s]\u001b[A\n",
      "training 1 epoch:  45%|██████████▋             | 29/65 [00:01<00:01, 18.92it/s]\u001b[A\n",
      "training 1 epoch:  49%|███████████▊            | 32/65 [00:01<00:01, 19.01it/s]\u001b[A\n",
      "training 1 epoch:  52%|████████████▌           | 34/65 [00:01<00:01, 18.83it/s]\u001b[A\n",
      "training 1 epoch:  57%|█████████████▋          | 37/65 [00:01<00:01, 18.92it/s]\u001b[A\n",
      "training 1 epoch:  62%|██████████████▊         | 40/65 [00:02<00:01, 19.01it/s]\u001b[A\n",
      "training 1 epoch:  65%|███████████████▌        | 42/65 [00:02<00:01, 18.83it/s]\u001b[A\n",
      "training 1 epoch:  68%|████████████████▏       | 44/65 [00:02<00:01, 18.69it/s]\u001b[A\n",
      "training 1 epoch:  72%|█████████████████▎      | 47/65 [00:02<00:00, 18.87it/s]\u001b[A\n",
      "training 1 epoch:  77%|██████████████████▍     | 50/65 [00:02<00:00, 18.98it/s]\u001b[A\n",
      "training 1 epoch:  80%|███████████████████▏    | 52/65 [00:02<00:00, 18.81it/s]\u001b[A\n",
      "training 1 epoch:  83%|███████████████████▉    | 54/65 [00:02<00:00, 18.67it/s]\u001b[A\n",
      "training 1 epoch:  88%|█████████████████████   | 57/65 [00:03<00:00, 18.85it/s]\u001b[A\n",
      "training 1 epoch:  91%|█████████████████████▊  | 59/65 [00:03<00:00, 16.84it/s]\u001b[A\n",
      "training 1 epoch:  94%|██████████████████████▌ | 61/65 [00:03<00:00, 17.20it/s]\u001b[A\n",
      "training 1 epoch: 100%|████████████████████████| 65/65 [00:03<00:00, 18.73it/s]\u001b[A\n"
     ]
    },
    {
     "name": "stdout",
     "output_type": "stream",
     "text": [
      "Epoch train time: 3.4699878692626953   Time per sample: 0.000838363824417177\n"
     ]
    },
    {
     "name": "stderr",
     "output_type": "stream",
     "text": [
      "\n",
      "Validating:   0%|                                        | 0/9 [00:00<?, ?it/s]\u001b[A\n",
      "Validating:  33%|██████████▋                     | 3/9 [00:00<00:00, 21.34it/s]\u001b[A\n",
      "Validating:  67%|█████████████████████▎          | 6/9 [00:00<00:00, 21.33it/s]\u001b[A\n",
      "Validating: 100%|████████████████████████████████| 9/9 [00:00<00:00, 23.01it/s]\u001b[A\n",
      "epochs:  20%|███████                            | 3/15 [00:11<00:44,  3.74s/it]"
     ]
    },
    {
     "name": "stdout",
     "output_type": "stream",
     "text": [
      "Val confusion matrix:\n",
      "[[235  20]\n",
      " [ 63 199]]\n",
      "255 frames don't have pedestrian, 262 frames have pedestrian\n",
      "TP: 235, FP: 63, FN: 20\n",
      "Precision: 0.7885906040268457, Recall: 0.9215686274509803\n",
      "Epoch 2: Saving model to ./checkpoints/resnet18_HOG_fd_conv1 with val accuracy 83.9458413926499%\n"
     ]
    },
    {
     "name": "stderr",
     "output_type": "stream",
     "text": [
      "\n",
      "training 1 epoch:   0%|                                 | 0/65 [00:00<?, ?it/s]\u001b[A\n",
      "training 1 epoch:   3%|▊                        | 2/65 [00:00<00:03, 18.29it/s]\u001b[A\n",
      "training 1 epoch:   6%|█▌                       | 4/65 [00:00<00:03, 18.29it/s]\u001b[A\n",
      "training 1 epoch:  11%|██▋                      | 7/65 [00:00<00:03, 18.78it/s]\u001b[A\n",
      "training 1 epoch:  15%|███▋                    | 10/65 [00:00<00:02, 18.96it/s]\u001b[A\n",
      "training 1 epoch:  18%|████▍                   | 12/65 [00:00<00:02, 18.76it/s]\u001b[A\n",
      "training 1 epoch:  22%|█████▏                  | 14/65 [00:00<00:02, 18.60it/s]\u001b[A\n",
      "training 1 epoch:  26%|██████▎                 | 17/65 [00:00<00:02, 18.83it/s]\u001b[A\n",
      "training 1 epoch:  31%|███████▍                | 20/65 [00:01<00:02, 18.96it/s]\u001b[A\n",
      "training 1 epoch:  34%|████████                | 22/65 [00:01<00:02, 18.77it/s]\u001b[A\n",
      "training 1 epoch:  37%|████████▊               | 24/65 [00:01<00:02, 18.64it/s]\u001b[A\n",
      "training 1 epoch:  42%|█████████▉              | 27/65 [00:01<00:02, 18.84it/s]\u001b[A\n",
      "training 1 epoch:  46%|███████████             | 30/65 [00:01<00:01, 18.96it/s]\u001b[A\n",
      "training 1 epoch:  51%|████████████▏           | 33/65 [00:01<00:01, 19.04it/s]\u001b[A\n",
      "training 1 epoch:  54%|████████████▉           | 35/65 [00:01<00:01, 18.83it/s]\u001b[A\n",
      "training 1 epoch:  58%|██████████████          | 38/65 [00:02<00:01, 18.96it/s]\u001b[A\n",
      "training 1 epoch:  63%|███████████████▏        | 41/65 [00:02<00:01, 19.03it/s]\u001b[A\n",
      "training 1 epoch:  66%|███████████████▉        | 43/65 [00:02<00:01, 18.85it/s]\u001b[A\n",
      "training 1 epoch:  69%|████████████████▌       | 45/65 [00:02<00:01, 18.92it/s]\u001b[A\n",
      "training 1 epoch:  74%|█████████████████▋      | 48/65 [00:02<00:00, 19.47it/s]\u001b[A\n",
      "training 1 epoch:  77%|██████████████████▍     | 50/65 [00:02<00:00, 19.16it/s]\u001b[A\n",
      "training 1 epoch:  80%|███████████████████▏    | 52/65 [00:02<00:00, 18.92it/s]\u001b[A\n",
      "training 1 epoch:  83%|███████████████████▉    | 54/65 [00:02<00:00, 18.73it/s]\u001b[A\n",
      "training 1 epoch:  86%|████████████████████▋   | 56/65 [00:02<00:00, 18.60it/s]\u001b[A\n",
      "training 1 epoch:  91%|█████████████████████▊  | 59/65 [00:03<00:00, 18.81it/s]\u001b[A\n",
      "training 1 epoch:  95%|██████████████████████▉ | 62/65 [00:03<00:00, 18.94it/s]\u001b[A\n",
      "training 1 epoch: 100%|████████████████████████| 65/65 [00:03<00:00, 18.98it/s]\u001b[A\n"
     ]
    },
    {
     "name": "stdout",
     "output_type": "stream",
     "text": [
      "Epoch train time: 3.424079179763794   Time per sample: 0.0008272720898197134\n"
     ]
    },
    {
     "name": "stderr",
     "output_type": "stream",
     "text": [
      "\n",
      "Validating:   0%|                                        | 0/9 [00:00<?, ?it/s]\u001b[A\n",
      "Validating:  22%|███████                         | 2/9 [00:00<00:00, 18.29it/s]\u001b[A\n",
      "Validating:  56%|█████████████████▊              | 5/9 [00:00<00:00, 20.26it/s]\u001b[A\n",
      "Validating: 100%|████████████████████████████████| 9/9 [00:00<00:00, 22.15it/s]\u001b[A\n",
      "epochs:  27%|█████████▎                         | 4/15 [00:14<00:41,  3.78s/it]"
     ]
    },
    {
     "name": "stdout",
     "output_type": "stream",
     "text": [
      "Val confusion matrix:\n",
      "[[230  25]\n",
      " [ 51 211]]\n",
      "255 frames don't have pedestrian, 262 frames have pedestrian\n",
      "TP: 230, FP: 51, FN: 25\n",
      "Precision: 0.8185053380782918, Recall: 0.9019607843137255\n",
      "Epoch 3: Saving model to ./checkpoints/resnet18_HOG_fd_conv1 with val accuracy 85.29980657640232%\n"
     ]
    },
    {
     "name": "stderr",
     "output_type": "stream",
     "text": [
      "\n",
      "training 1 epoch:   0%|                                 | 0/65 [00:00<?, ?it/s]\u001b[A\n",
      "training 1 epoch:   3%|▊                        | 2/65 [00:00<00:03, 18.22it/s]\u001b[A\n",
      "training 1 epoch:   6%|█▌                       | 4/65 [00:00<00:03, 18.26it/s]\u001b[A\n",
      "training 1 epoch:   9%|██▎                      | 6/65 [00:00<00:03, 18.27it/s]\u001b[A\n",
      "training 1 epoch:  14%|███▍                     | 9/65 [00:00<00:02, 18.72it/s]\u001b[A\n",
      "training 1 epoch:  17%|████                    | 11/65 [00:00<00:02, 18.58it/s]\u001b[A\n",
      "training 1 epoch:  22%|█████▏                  | 14/65 [00:00<00:02, 18.83it/s]\u001b[A\n",
      "training 1 epoch:  26%|██████▎                 | 17/65 [00:00<00:02, 18.96it/s]\u001b[A\n",
      "training 1 epoch:  29%|███████                 | 19/65 [00:01<00:02, 18.78it/s]\u001b[A\n",
      "training 1 epoch:  32%|███████▊                | 21/65 [00:01<00:02, 18.64it/s]\u001b[A\n",
      "training 1 epoch:  37%|████████▊               | 24/65 [00:01<00:02, 18.84it/s]\u001b[A\n",
      "training 1 epoch:  42%|█████████▉              | 27/65 [00:01<00:02, 18.96it/s]\u001b[A\n",
      "training 1 epoch:  45%|██████████▋             | 29/65 [00:01<00:01, 18.79it/s]\u001b[A\n",
      "training 1 epoch:  49%|███████████▊            | 32/65 [00:01<00:01, 18.93it/s]\u001b[A\n",
      "training 1 epoch:  54%|████████████▉           | 35/65 [00:01<00:01, 19.02it/s]\u001b[A\n",
      "training 1 epoch:  58%|██████████████          | 38/65 [00:02<00:01, 19.08it/s]\u001b[A\n",
      "training 1 epoch:  62%|██████████████▊         | 40/65 [00:02<00:01, 18.87it/s]\u001b[A\n",
      "training 1 epoch:  66%|███████████████▉        | 43/65 [00:02<00:01, 18.98it/s]\u001b[A\n",
      "training 1 epoch:  71%|████████████████▉       | 46/65 [00:02<00:00, 19.05it/s]\u001b[A\n",
      "training 1 epoch:  74%|█████████████████▋      | 48/65 [00:02<00:00, 18.86it/s]\u001b[A\n",
      "training 1 epoch:  78%|██████████████████▊     | 51/65 [00:02<00:00, 18.98it/s]\u001b[A\n",
      "training 1 epoch:  83%|███████████████████▉    | 54/65 [00:02<00:00, 19.05it/s]\u001b[A\n",
      "training 1 epoch:  86%|████████████████████▋   | 56/65 [00:02<00:00, 18.86it/s]\u001b[A\n",
      "training 1 epoch:  91%|█████████████████████▊  | 59/65 [00:03<00:00, 18.97it/s]\u001b[A\n",
      "training 1 epoch:  95%|██████████████████████▉ | 62/65 [00:03<00:00, 19.04it/s]\u001b[A\n",
      "training 1 epoch: 100%|████████████████████████| 65/65 [00:03<00:00, 18.99it/s]\u001b[A\n"
     ]
    },
    {
     "name": "stdout",
     "output_type": "stream",
     "text": [
      "Epoch train time: 3.423038959503174   Time per sample: 0.0008270207681814868\n"
     ]
    },
    {
     "name": "stderr",
     "output_type": "stream",
     "text": [
      "\n",
      "Validating:   0%|                                        | 0/9 [00:00<?, ?it/s]\u001b[A\n",
      "Validating:  33%|██████████▋                     | 3/9 [00:00<00:00, 21.33it/s]\u001b[A\n",
      "Validating: 100%|████████████████████████████████| 9/9 [00:00<00:00, 24.00it/s]\u001b[A\n",
      "epochs:  33%|███████████▋                       | 5/15 [00:18<00:38,  3.80s/it]"
     ]
    },
    {
     "name": "stdout",
     "output_type": "stream",
     "text": [
      "Val confusion matrix:\n",
      "[[232  23]\n",
      " [ 47 215]]\n",
      "255 frames don't have pedestrian, 262 frames have pedestrian\n",
      "TP: 232, FP: 47, FN: 23\n",
      "Precision: 0.8315412186379928, Recall: 0.9098039215686274\n",
      "Epoch 4: Saving model to ./checkpoints/resnet18_HOG_fd_conv1 with val accuracy 86.46034816247582%\n"
     ]
    },
    {
     "name": "stderr",
     "output_type": "stream",
     "text": [
      "\n",
      "training 1 epoch:   0%|                                 | 0/65 [00:00<?, ?it/s]\u001b[A\n",
      "training 1 epoch:   5%|█▏                       | 3/65 [00:00<00:03, 17.45it/s]\u001b[A\n",
      "training 1 epoch:   8%|█▉                       | 5/65 [00:00<00:04, 14.80it/s]\u001b[A\n",
      "training 1 epoch:  11%|██▋                      | 7/65 [00:00<00:03, 16.06it/s]\u001b[A\n",
      "training 1 epoch:  14%|███▍                     | 9/65 [00:00<00:03, 16.82it/s]\u001b[A\n",
      "training 1 epoch:  18%|████▍                   | 12/65 [00:00<00:02, 17.79it/s]\u001b[A\n",
      "training 1 epoch:  23%|█████▌                  | 15/65 [00:00<00:02, 18.31it/s]\u001b[A\n",
      "training 1 epoch:  28%|██████▋                 | 18/65 [00:01<00:02, 18.62it/s]\u001b[A\n",
      "training 1 epoch:  31%|███████▍                | 20/65 [00:01<00:02, 18.53it/s]\u001b[A\n",
      "training 1 epoch:  35%|████████▍               | 23/65 [00:01<00:02, 18.76it/s]\u001b[A\n",
      "training 1 epoch:  40%|█████████▌              | 26/65 [00:01<00:02, 18.91it/s]\u001b[A\n",
      "training 1 epoch:  45%|██████████▋             | 29/65 [00:01<00:01, 19.00it/s]\u001b[A\n",
      "training 1 epoch:  49%|███████████▊            | 32/65 [00:01<00:01, 19.06it/s]\u001b[A\n",
      "training 1 epoch:  54%|████████████▉           | 35/65 [00:01<00:01, 19.10it/s]\u001b[A\n",
      "training 1 epoch:  58%|██████████████          | 38/65 [00:02<00:01, 19.13it/s]\u001b[A\n",
      "training 1 epoch:  63%|███████████████▏        | 41/65 [00:02<00:01, 19.15it/s]\u001b[A\n",
      "training 1 epoch:  66%|███████████████▉        | 43/65 [00:02<00:01, 18.95it/s]\u001b[A\n",
      "training 1 epoch:  69%|████████████████▌       | 45/65 [00:02<00:01, 18.14it/s]\u001b[A\n",
      "training 1 epoch:  74%|█████████████████▋      | 48/65 [00:02<00:00, 18.47it/s]\u001b[A\n",
      "training 1 epoch:  78%|██████████████████▊     | 51/65 [00:02<00:00, 18.70it/s]\u001b[A\n",
      "training 1 epoch:  83%|███████████████████▉    | 54/65 [00:02<00:00, 18.86it/s]\u001b[A\n",
      "training 1 epoch:  88%|█████████████████████   | 57/65 [00:03<00:00, 18.96it/s]\u001b[A\n",
      "training 1 epoch:  91%|█████████████████████▊  | 59/65 [00:03<00:00, 18.80it/s]\u001b[A\n",
      "training 1 epoch:  95%|██████████████████████▉ | 62/65 [00:03<00:00, 18.93it/s]\u001b[A\n",
      "training 1 epoch: 100%|████████████████████████| 65/65 [00:03<00:00, 18.65it/s]\u001b[A\n"
     ]
    },
    {
     "name": "stdout",
     "output_type": "stream",
     "text": [
      "Epoch train time: 3.485600471496582   Time per sample: 0.0008421358955053351\n"
     ]
    },
    {
     "name": "stderr",
     "output_type": "stream",
     "text": [
      "\n",
      "Validating:   0%|                                        | 0/9 [00:00<?, ?it/s]\u001b[A\n",
      "Validating:  22%|███████                         | 2/9 [00:00<00:00, 18.29it/s]\u001b[A\n",
      "Validating:  56%|█████████████████▊              | 5/9 [00:00<00:00, 20.26it/s]\u001b[A\n",
      "Validating: 100%|████████████████████████████████| 9/9 [00:00<00:00, 23.04it/s]\u001b[A\n",
      "epochs:  40%|██████████████                     | 6/15 [00:22<00:34,  3.83s/it]"
     ]
    },
    {
     "name": "stdout",
     "output_type": "stream",
     "text": [
      "Val confusion matrix:\n",
      "[[221  34]\n",
      " [ 30 232]]\n",
      "255 frames don't have pedestrian, 262 frames have pedestrian\n",
      "TP: 221, FP: 30, FN: 34\n",
      "Precision: 0.8804780876494024, Recall: 0.8666666666666667\n",
      "Epoch 5: Saving model to ./checkpoints/resnet18_HOG_fd_conv1 with val accuracy 87.62088974854932%\n"
     ]
    },
    {
     "name": "stderr",
     "output_type": "stream",
     "text": [
      "\n",
      "training 1 epoch:   0%|                                 | 0/65 [00:00<?, ?it/s]\u001b[A\n",
      "training 1 epoch:   5%|█▏                       | 3/65 [00:00<00:03, 19.20it/s]\u001b[A\n",
      "training 1 epoch:   9%|██▎                      | 6/65 [00:00<00:03, 19.20it/s]\u001b[A\n",
      "training 1 epoch:  14%|███▍                     | 9/65 [00:00<00:02, 19.19it/s]\u001b[A\n",
      "training 1 epoch:  18%|████▍                   | 12/65 [00:00<00:02, 19.18it/s]\u001b[A\n",
      "training 1 epoch:  23%|█████▌                  | 15/65 [00:00<00:02, 19.19it/s]\u001b[A\n",
      "training 1 epoch:  28%|██████▋                 | 18/65 [00:00<00:02, 19.19it/s]\u001b[A\n",
      "training 1 epoch:  31%|███████▍                | 20/65 [00:01<00:02, 18.96it/s]\u001b[A\n",
      "training 1 epoch:  35%|████████▍               | 23/65 [00:01<00:02, 19.04it/s]\u001b[A\n",
      "training 1 epoch:  38%|█████████▏              | 25/65 [00:01<00:02, 18.84it/s]\u001b[A\n",
      "training 1 epoch:  43%|██████████▎             | 28/65 [00:01<00:01, 18.96it/s]\u001b[A\n",
      "training 1 epoch:  48%|███████████▍            | 31/65 [00:01<00:01, 19.04it/s]\u001b[A\n",
      "training 1 epoch:  52%|████████████▌           | 34/65 [00:01<00:01, 19.09it/s]\u001b[A\n",
      "training 1 epoch:  55%|█████████████▎          | 36/65 [00:01<00:01, 18.89it/s]\u001b[A\n",
      "training 1 epoch:  60%|██████████████▍         | 39/65 [00:02<00:01, 19.00it/s]\u001b[A\n",
      "training 1 epoch:  65%|███████████████▌        | 42/65 [00:02<00:01, 19.06it/s]\u001b[A\n",
      "training 1 epoch:  68%|████████████████▏       | 44/65 [00:02<00:01, 18.87it/s]\u001b[A\n",
      "training 1 epoch:  72%|█████████████████▎      | 47/65 [00:02<00:00, 18.98it/s]\u001b[A\n",
      "training 1 epoch:  77%|██████████████████▍     | 50/65 [00:02<00:00, 19.05it/s]\u001b[A\n",
      "training 1 epoch:  80%|███████████████████▏    | 52/65 [00:02<00:00, 18.87it/s]\u001b[A\n",
      "training 1 epoch:  85%|████████████████████▎   | 55/65 [00:02<00:00, 18.98it/s]\u001b[A\n",
      "training 1 epoch:  89%|█████████████████████▍  | 58/65 [00:03<00:00, 19.04it/s]\u001b[A\n",
      "training 1 epoch:  94%|██████████████████████▌ | 61/65 [00:03<00:00, 19.09it/s]\u001b[A\n",
      "training 1 epoch: 100%|████████████████████████| 65/65 [00:03<00:00, 19.08it/s]\u001b[A\n"
     ]
    },
    {
     "name": "stdout",
     "output_type": "stream",
     "text": [
      "Epoch train time: 3.423002243041992   Time per sample: 0.0008270118973283383\n"
     ]
    },
    {
     "name": "stderr",
     "output_type": "stream",
     "text": [
      "\n",
      "Validating:   0%|                                        | 0/9 [00:00<?, ?it/s]\u001b[A\n",
      "Validating:  33%|██████████▋                     | 3/9 [00:00<00:00, 21.33it/s]\u001b[A\n",
      "Validating:  67%|█████████████████████▎          | 6/9 [00:00<00:00, 21.33it/s]\u001b[A\n",
      "Validating: 100%|████████████████████████████████| 9/9 [00:00<00:00, 23.04it/s]\u001b[A\n",
      "epochs:  47%|████████████████▎                  | 7/15 [00:26<00:30,  3.82s/it]"
     ]
    },
    {
     "name": "stdout",
     "output_type": "stream",
     "text": [
      "Val confusion matrix:\n",
      "[[226  29]\n",
      " [ 34 228]]\n",
      "255 frames don't have pedestrian, 262 frames have pedestrian\n",
      "TP: 226, FP: 34, FN: 29\n",
      "Precision: 0.8692307692307693, Recall: 0.8862745098039215\n",
      "Epoch 6: Saving model to ./checkpoints/resnet18_HOG_fd_conv1 with val accuracy 87.81431334622825%\n"
     ]
    },
    {
     "name": "stderr",
     "output_type": "stream",
     "text": [
      "\n",
      "training 1 epoch:   0%|                                 | 0/65 [00:00<?, ?it/s]\u001b[A\n",
      "training 1 epoch:   3%|▊                        | 2/65 [00:00<00:03, 18.29it/s]\u001b[A\n",
      "training 1 epoch:   6%|█▌                       | 4/65 [00:00<00:03, 18.27it/s]\u001b[A\n",
      "training 1 epoch:  11%|██▋                      | 7/65 [00:00<00:03, 18.78it/s]\u001b[A\n",
      "training 1 epoch:  14%|███▍                     | 9/65 [00:00<00:03, 18.60it/s]\u001b[A\n",
      "training 1 epoch:  17%|████                    | 11/65 [00:00<00:02, 18.50it/s]\u001b[A\n",
      "training 1 epoch:  22%|█████▏                  | 14/65 [00:00<00:02, 18.78it/s]\u001b[A\n",
      "training 1 epoch:  25%|█████▉                  | 16/65 [00:00<00:02, 18.62it/s]\u001b[A\n",
      "training 1 epoch:  29%|███████                 | 19/65 [00:01<00:02, 18.83it/s]\u001b[A\n",
      "training 1 epoch:  32%|███████▊                | 21/65 [00:01<00:02, 18.69it/s]\u001b[A\n",
      "training 1 epoch:  37%|████████▊               | 24/65 [00:01<00:02, 18.86it/s]\u001b[A\n",
      "training 1 epoch:  42%|█████████▉              | 27/65 [00:01<00:02, 18.97it/s]\u001b[A\n",
      "training 1 epoch:  45%|██████████▋             | 29/65 [00:01<00:01, 18.79it/s]\u001b[A\n",
      "training 1 epoch:  48%|███████████▍            | 31/65 [00:01<00:01, 18.66it/s]\u001b[A\n",
      "training 1 epoch:  52%|████████████▌           | 34/65 [00:01<00:01, 18.85it/s]\u001b[A\n",
      "training 1 epoch:  55%|█████████████▎          | 36/65 [00:01<00:01, 18.70it/s]\u001b[A\n",
      "training 1 epoch:  60%|██████████████▍         | 39/65 [00:02<00:01, 18.87it/s]\u001b[A\n",
      "training 1 epoch:  65%|███████████████▌        | 42/65 [00:02<00:01, 18.97it/s]\u001b[A\n",
      "training 1 epoch:  69%|████████████████▌       | 45/65 [00:02<00:01, 19.05it/s]\u001b[A\n",
      "training 1 epoch:  72%|█████████████████▎      | 47/65 [00:02<00:00, 18.86it/s]\u001b[A\n",
      "training 1 epoch:  77%|██████████████████▍     | 50/65 [00:02<00:00, 18.97it/s]\u001b[A\n",
      "training 1 epoch:  80%|███████████████████▏    | 52/65 [00:02<00:00, 18.79it/s]\u001b[A\n",
      "training 1 epoch:  85%|████████████████████▎   | 55/65 [00:02<00:00, 18.93it/s]\u001b[A\n",
      "training 1 epoch:  89%|█████████████████████▍  | 58/65 [00:03<00:00, 19.01it/s]\u001b[A\n",
      "training 1 epoch:  94%|██████████████████████▌ | 61/65 [00:03<00:00, 19.07it/s]\u001b[A\n",
      "training 1 epoch: 100%|████████████████████████| 65/65 [00:03<00:00, 18.90it/s]\u001b[A\n"
     ]
    },
    {
     "name": "stdout",
     "output_type": "stream",
     "text": [
      "Epoch train time: 3.4391260147094727   Time per sample: 0.0008309074691252652\n"
     ]
    },
    {
     "name": "stderr",
     "output_type": "stream",
     "text": [
      "\n",
      "Validating:   0%|                                        | 0/9 [00:00<?, ?it/s]\u001b[A\n",
      "Validating:  33%|██████████▋                     | 3/9 [00:00<00:00, 21.30it/s]\u001b[A\n",
      "Validating:  67%|█████████████████████▎          | 6/9 [00:00<00:00, 21.32it/s]\u001b[A\n",
      "Validating: 100%|████████████████████████████████| 9/9 [00:00<00:00, 23.03it/s]\u001b[A\n",
      "epochs:  53%|██████████████████▋                | 8/15 [00:30<00:26,  3.82s/it]"
     ]
    },
    {
     "name": "stdout",
     "output_type": "stream",
     "text": [
      "Val confusion matrix:\n",
      "[[237  18]\n",
      " [ 46 216]]\n",
      "255 frames don't have pedestrian, 262 frames have pedestrian\n",
      "TP: 237, FP: 46, FN: 18\n",
      "Precision: 0.8374558303886925, Recall: 0.9294117647058824\n"
     ]
    },
    {
     "name": "stderr",
     "output_type": "stream",
     "text": [
      "\n",
      "training 1 epoch:   0%|                                 | 0/65 [00:00<?, ?it/s]\u001b[A\n",
      "training 1 epoch:   3%|▊                        | 2/65 [00:00<00:03, 18.29it/s]\u001b[A\n",
      "training 1 epoch:   6%|█▌                       | 4/65 [00:00<00:03, 18.29it/s]\u001b[A\n",
      "training 1 epoch:  11%|██▋                      | 7/65 [00:00<00:03, 18.78it/s]\u001b[A\n",
      "training 1 epoch:  14%|███▍                     | 9/65 [00:00<00:03, 18.61it/s]\u001b[A\n",
      "training 1 epoch:  18%|████▍                   | 12/65 [00:00<00:02, 18.86it/s]\u001b[A\n",
      "training 1 epoch:  22%|█████▏                  | 14/65 [00:00<00:02, 18.68it/s]\u001b[A\n",
      "training 1 epoch:  26%|██████▎                 | 17/65 [00:00<00:02, 18.87it/s]\u001b[A\n",
      "training 1 epoch:  31%|███████▍                | 20/65 [00:01<00:02, 18.99it/s]\u001b[A\n",
      "training 1 epoch:  34%|████████                | 22/65 [00:01<00:02, 16.93it/s]\u001b[A\n",
      "training 1 epoch:  37%|████████▊               | 24/65 [00:01<00:02, 17.07it/s]\u001b[A\n",
      "training 1 epoch:  40%|█████████▌              | 26/65 [00:01<00:02, 17.58it/s]\u001b[A\n",
      "training 1 epoch:  45%|██████████▋             | 29/65 [00:01<00:01, 18.15it/s]\u001b[A\n",
      "training 1 epoch:  49%|███████████▊            | 32/65 [00:01<00:01, 18.50it/s]\u001b[A\n",
      "training 1 epoch:  54%|████████████▉           | 35/65 [00:01<00:01, 18.72it/s]\u001b[A\n",
      "training 1 epoch:  58%|██████████████          | 38/65 [00:02<00:01, 18.87it/s]\u001b[A\n",
      "training 1 epoch:  63%|███████████████▏        | 41/65 [00:02<00:01, 18.98it/s]\u001b[A\n",
      "training 1 epoch:  68%|████████████████▏       | 44/65 [00:02<00:01, 19.04it/s]\u001b[A\n",
      "training 1 epoch:  72%|█████████████████▎      | 47/65 [00:02<00:00, 19.09it/s]\u001b[A\n",
      "training 1 epoch:  77%|██████████████████▍     | 50/65 [00:02<00:00, 19.12it/s]\u001b[A\n",
      "training 1 epoch:  80%|███████████████████▏    | 52/65 [00:02<00:00, 18.92it/s]\u001b[A\n",
      "training 1 epoch:  85%|████████████████████▎   | 55/65 [00:02<00:00, 19.01it/s]\u001b[A\n",
      "training 1 epoch:  89%|█████████████████████▍  | 58/65 [00:03<00:00, 19.07it/s]\u001b[A\n",
      "training 1 epoch:  94%|██████████████████████▌ | 61/65 [00:03<00:00, 19.11it/s]\u001b[A\n",
      "training 1 epoch: 100%|████████████████████████| 65/65 [00:03<00:00, 18.82it/s]\u001b[A\n"
     ]
    },
    {
     "name": "stdout",
     "output_type": "stream",
     "text": [
      "Epoch train time: 3.453946828842163   Time per sample: 0.0008344882408413054\n"
     ]
    },
    {
     "name": "stderr",
     "output_type": "stream",
     "text": [
      "\n",
      "Validating:   0%|                                        | 0/9 [00:00<?, ?it/s]\u001b[A\n",
      "Validating:  33%|██████████▋                     | 3/9 [00:00<00:00, 21.25it/s]\u001b[A\n",
      "Validating: 100%|████████████████████████████████| 9/9 [00:00<00:00, 23.99it/s]\u001b[A\n",
      "epochs:  60%|█████████████████████              | 9/15 [00:34<00:23,  3.84s/it]"
     ]
    },
    {
     "name": "stdout",
     "output_type": "stream",
     "text": [
      "Val confusion matrix:\n",
      "[[246   9]\n",
      " [ 53 209]]\n",
      "255 frames don't have pedestrian, 262 frames have pedestrian\n",
      "TP: 246, FP: 53, FN: 9\n",
      "Precision: 0.822742474916388, Recall: 0.9647058823529412\n",
      "Epoch 8: Saving model to ./checkpoints/resnet18_HOG_fd_conv1 with val accuracy 88.00773694390716%\n"
     ]
    },
    {
     "name": "stderr",
     "output_type": "stream",
     "text": [
      "\n",
      "training 1 epoch:   0%|                                 | 0/65 [00:00<?, ?it/s]\u001b[A\n",
      "training 1 epoch:   3%|▊                        | 2/65 [00:00<00:03, 18.19it/s]\u001b[A\n",
      "training 1 epoch:   8%|█▉                       | 5/65 [00:00<00:03, 18.87it/s]\u001b[A\n",
      "training 1 epoch:  12%|███                      | 8/65 [00:00<00:02, 19.03it/s]\u001b[A\n",
      "training 1 epoch:  17%|████                    | 11/65 [00:00<00:02, 19.10it/s]\u001b[A\n",
      "training 1 epoch:  22%|█████▏                  | 14/65 [00:00<00:02, 19.14it/s]\u001b[A\n",
      "training 1 epoch:  26%|██████▎                 | 17/65 [00:00<00:02, 19.16it/s]\u001b[A\n",
      "training 1 epoch:  29%|███████                 | 19/65 [00:01<00:02, 18.93it/s]\u001b[A\n",
      "training 1 epoch:  34%|████████                | 22/65 [00:01<00:02, 19.01it/s]\u001b[A\n",
      "training 1 epoch:  38%|█████████▏              | 25/65 [00:01<00:02, 19.06it/s]\u001b[A\n",
      "training 1 epoch:  43%|██████████▎             | 28/65 [00:01<00:01, 19.11it/s]\u001b[A\n",
      "training 1 epoch:  48%|███████████▍            | 31/65 [00:01<00:01, 19.13it/s]\u001b[A\n",
      "training 1 epoch:  51%|████████████▏           | 33/65 [00:01<00:01, 18.93it/s]\u001b[A\n",
      "training 1 epoch:  55%|█████████████▎          | 36/65 [00:01<00:01, 19.02it/s]\u001b[A\n",
      "training 1 epoch:  60%|██████████████▍         | 39/65 [00:02<00:01, 19.08it/s]\u001b[A\n",
      "training 1 epoch:  65%|███████████████▌        | 42/65 [00:02<00:01, 19.04it/s]\u001b[A\n",
      "training 1 epoch:  69%|████████████████▌       | 45/65 [00:02<00:01, 19.14it/s]\u001b[A\n",
      "training 1 epoch:  72%|█████████████████▎      | 47/65 [00:02<00:00, 18.94it/s]\u001b[A\n",
      "training 1 epoch:  77%|██████████████████▍     | 50/65 [00:02<00:00, 18.98it/s]\u001b[A\n",
      "training 1 epoch:  80%|███████████████████▏    | 52/65 [00:02<00:00, 18.85it/s]\u001b[A\n",
      "training 1 epoch:  85%|████████████████████▎   | 55/65 [00:02<00:00, 18.97it/s]\u001b[A\n",
      "training 1 epoch:  89%|█████████████████████▍  | 58/65 [00:03<00:00, 19.04it/s]\u001b[A\n",
      "training 1 epoch:  94%|██████████████████████▌ | 61/65 [00:03<00:00, 19.09it/s]\u001b[A\n",
      "training 1 epoch: 100%|████████████████████████| 65/65 [00:03<00:00, 19.07it/s]\u001b[A\n"
     ]
    },
    {
     "name": "stdout",
     "output_type": "stream",
     "text": [
      "Epoch train time: 3.408223867416382   Time per sample: 0.0008234413789360672\n"
     ]
    },
    {
     "name": "stderr",
     "output_type": "stream",
     "text": [
      "\n",
      "Validating:   0%|                                        | 0/9 [00:00<?, ?it/s]\u001b[A\n",
      "Validating:  33%|██████████▋                     | 3/9 [00:00<00:00, 21.33it/s]\u001b[A\n",
      "Validating:  67%|█████████████████████▎          | 6/9 [00:00<00:00, 21.33it/s]\u001b[A\n",
      "Validating: 100%|████████████████████████████████| 9/9 [00:00<00:00, 23.04it/s]\u001b[A\n",
      "epochs:  67%|██████████████████████▋           | 10/15 [00:37<00:19,  3.82s/it]"
     ]
    },
    {
     "name": "stdout",
     "output_type": "stream",
     "text": [
      "Val confusion matrix:\n",
      "[[235  20]\n",
      " [ 38 224]]\n",
      "255 frames don't have pedestrian, 262 frames have pedestrian\n",
      "TP: 235, FP: 38, FN: 20\n",
      "Precision: 0.8608058608058609, Recall: 0.9215686274509803\n",
      "Epoch 9: Saving model to ./checkpoints/resnet18_HOG_fd_conv1 with val accuracy 88.78143133462282%\n"
     ]
    },
    {
     "name": "stderr",
     "output_type": "stream",
     "text": [
      "\n",
      "training 1 epoch:   0%|                                 | 0/65 [00:00<?, ?it/s]\u001b[A\n",
      "training 1 epoch:   3%|▊                        | 2/65 [00:00<00:03, 18.20it/s]\u001b[A\n",
      "training 1 epoch:   6%|█▌                       | 4/65 [00:00<00:03, 18.25it/s]\u001b[A\n",
      "training 1 epoch:  11%|██▋                      | 7/65 [00:00<00:03, 18.77it/s]\u001b[A\n",
      "training 1 epoch:  14%|███▍                     | 9/65 [00:00<00:03, 18.60it/s]\u001b[A\n",
      "training 1 epoch:  18%|████▍                   | 12/65 [00:00<00:02, 18.85it/s]\u001b[A\n",
      "training 1 epoch:  23%|█████▌                  | 15/65 [00:00<00:02, 18.98it/s]\u001b[A\n",
      "training 1 epoch:  26%|██████▎                 | 17/65 [00:00<00:02, 18.79it/s]\u001b[A\n",
      "training 1 epoch:  31%|███████▍                | 20/65 [00:01<00:02, 18.93it/s]\u001b[A\n",
      "training 1 epoch:  34%|████████                | 22/65 [00:01<00:02, 18.76it/s]\u001b[A\n",
      "training 1 epoch:  38%|█████████▏              | 25/65 [00:01<00:02, 18.91it/s]\u001b[A\n",
      "training 1 epoch:  43%|██████████▎             | 28/65 [00:01<00:01, 19.01it/s]\u001b[A\n",
      "training 1 epoch:  46%|███████████             | 30/65 [00:01<00:01, 18.83it/s]\u001b[A\n",
      "training 1 epoch:  51%|████████████▏           | 33/65 [00:01<00:01, 18.95it/s]\u001b[A\n",
      "training 1 epoch:  55%|█████████████▎          | 36/65 [00:01<00:01, 19.03it/s]\u001b[A\n",
      "training 1 epoch:  58%|██████████████          | 38/65 [00:02<00:01, 18.85it/s]\u001b[A\n",
      "training 1 epoch:  63%|███████████████▏        | 41/65 [00:02<00:01, 18.96it/s]\u001b[A\n",
      "training 1 epoch:  66%|███████████████▉        | 43/65 [00:02<00:01, 18.79it/s]\u001b[A\n",
      "training 1 epoch:  71%|████████████████▉       | 46/65 [00:02<00:01, 18.93it/s]\u001b[A\n",
      "training 1 epoch:  75%|██████████████████      | 49/65 [00:02<00:00, 19.02it/s]\u001b[A\n",
      "training 1 epoch:  80%|███████████████████▏    | 52/65 [00:02<00:00, 19.08it/s]\u001b[A\n",
      "training 1 epoch:  85%|████████████████████▎   | 55/65 [00:02<00:00, 19.11it/s]\u001b[A\n",
      "training 1 epoch:  88%|█████████████████████   | 57/65 [00:03<00:00, 18.92it/s]\u001b[A\n",
      "training 1 epoch:  92%|██████████████████████▏ | 60/65 [00:03<00:00, 19.00it/s]\u001b[A\n",
      "training 1 epoch:  95%|██████████████████████▉ | 62/65 [00:03<00:00, 18.83it/s]\u001b[A\n",
      "training 1 epoch: 100%|████████████████████████| 65/65 [00:03<00:00, 18.98it/s]\u001b[A\n"
     ]
    },
    {
     "name": "stdout",
     "output_type": "stream",
     "text": [
      "Epoch train time: 3.424274444580078   Time per sample: 0.0008273192666296396\n"
     ]
    },
    {
     "name": "stderr",
     "output_type": "stream",
     "text": [
      "\n",
      "Validating:   0%|                                        | 0/9 [00:00<?, ?it/s]\u001b[A\n",
      "Validating:  33%|██████████▋                     | 3/9 [00:00<00:00, 21.49it/s]\u001b[A\n",
      "Validating:  67%|█████████████████████▎          | 6/9 [00:00<00:00, 21.40it/s]\u001b[A\n",
      "Validating: 100%|████████████████████████████████| 9/9 [00:00<00:00, 23.10it/s]\u001b[A\n",
      "epochs:  73%|████████████████████████▉         | 11/15 [00:41<00:15,  3.82s/it]"
     ]
    },
    {
     "name": "stdout",
     "output_type": "stream",
     "text": [
      "Val confusion matrix:\n",
      "[[233  22]\n",
      " [ 26 236]]\n",
      "255 frames don't have pedestrian, 262 frames have pedestrian\n",
      "TP: 233, FP: 26, FN: 22\n",
      "Precision: 0.8996138996138996, Recall: 0.9137254901960784\n",
      "Epoch 10: Saving model to ./checkpoints/resnet18_HOG_fd_conv1 with val accuracy 90.71566731141199%\n"
     ]
    },
    {
     "name": "stderr",
     "output_type": "stream",
     "text": [
      "\n",
      "training 1 epoch:   0%|                                 | 0/65 [00:00<?, ?it/s]\u001b[A\n",
      "training 1 epoch:   3%|▊                        | 2/65 [00:00<00:03, 18.29it/s]\u001b[A\n",
      "training 1 epoch:   6%|█▌                       | 4/65 [00:00<00:03, 18.29it/s]\u001b[A\n",
      "training 1 epoch:   9%|██▎                      | 6/65 [00:00<00:03, 18.29it/s]\u001b[A\n",
      "training 1 epoch:  12%|███                      | 8/65 [00:00<00:03, 18.29it/s]\u001b[A\n",
      "training 1 epoch:  17%|████                    | 11/65 [00:00<00:02, 18.68it/s]\u001b[A\n",
      "training 1 epoch:  20%|████▊                   | 13/65 [00:00<00:02, 18.56it/s]\u001b[A\n",
      "training 1 epoch:  25%|█████▉                  | 16/65 [00:00<00:02, 18.81it/s]\u001b[A\n",
      "training 1 epoch:  29%|███████                 | 19/65 [00:01<00:02, 18.95it/s]\u001b[A\n",
      "training 1 epoch:  32%|███████▊                | 21/65 [00:01<00:02, 18.77it/s]\u001b[A\n",
      "training 1 epoch:  35%|████████▍               | 23/65 [00:01<00:02, 18.64it/s]\u001b[A\n",
      "training 1 epoch:  40%|█████████▌              | 26/65 [00:01<00:02, 18.84it/s]\u001b[A\n",
      "training 1 epoch:  45%|██████████▋             | 29/65 [00:01<00:01, 18.96it/s]\u001b[A\n",
      "training 1 epoch:  48%|███████████▍            | 31/65 [00:01<00:01, 18.79it/s]\u001b[A\n",
      "training 1 epoch:  52%|████████████▌           | 34/65 [00:01<00:01, 18.93it/s]\u001b[A\n",
      "training 1 epoch:  57%|█████████████▋          | 37/65 [00:01<00:01, 19.01it/s]\u001b[A\n",
      "training 1 epoch:  62%|██████████████▊         | 40/65 [00:02<00:01, 19.07it/s]\u001b[A\n",
      "training 1 epoch:  65%|███████████████▌        | 42/65 [00:02<00:01, 18.88it/s]\u001b[A\n",
      "training 1 epoch:  69%|████████████████▌       | 45/65 [00:02<00:01, 18.98it/s]\u001b[A\n",
      "training 1 epoch:  74%|█████████████████▋      | 48/65 [00:02<00:00, 19.04it/s]\u001b[A\n",
      "training 1 epoch:  78%|██████████████████▊     | 51/65 [00:02<00:00, 19.09it/s]\u001b[A\n",
      "training 1 epoch:  82%|███████████████████▌    | 53/65 [00:02<00:00, 18.90it/s]\u001b[A\n",
      "training 1 epoch:  86%|████████████████████▋   | 56/65 [00:02<00:00, 19.00it/s]\u001b[A\n",
      "training 1 epoch:  91%|█████████████████████▊  | 59/65 [00:03<00:00, 19.06it/s]\u001b[A\n",
      "training 1 epoch:  94%|██████████████████████▌ | 61/65 [00:03<00:00, 18.87it/s]\u001b[A\n",
      "training 1 epoch: 100%|████████████████████████| 65/65 [00:03<00:00, 18.99it/s]\u001b[A\n"
     ]
    },
    {
     "name": "stdout",
     "output_type": "stream",
     "text": [
      "Epoch train time: 3.43854022026062   Time per sample: 0.0008307659386954868\n"
     ]
    },
    {
     "name": "stderr",
     "output_type": "stream",
     "text": [
      "\n",
      "Validating:   0%|                                        | 0/9 [00:00<?, ?it/s]\u001b[A\n",
      "Validating:  33%|██████████▋                     | 3/9 [00:00<00:00, 21.33it/s]\u001b[A\n",
      "Validating: 100%|████████████████████████████████| 9/9 [00:00<00:00, 24.00it/s]\u001b[A\n",
      "epochs:  80%|███████████████████████████▏      | 12/15 [00:45<00:11,  3.82s/it]"
     ]
    },
    {
     "name": "stdout",
     "output_type": "stream",
     "text": [
      "Val confusion matrix:\n",
      "[[239  16]\n",
      " [ 31 231]]\n",
      "255 frames don't have pedestrian, 262 frames have pedestrian\n",
      "TP: 239, FP: 31, FN: 16\n",
      "Precision: 0.8851851851851852, Recall: 0.9372549019607843\n",
      "Epoch 11: Saving model to ./checkpoints/resnet18_HOG_fd_conv1 with val accuracy 90.9090909090909%\n"
     ]
    },
    {
     "name": "stderr",
     "output_type": "stream",
     "text": [
      "\n",
      "training 1 epoch:   0%|                                 | 0/65 [00:00<?, ?it/s]\u001b[A\n",
      "training 1 epoch:   3%|▊                        | 2/65 [00:00<00:04, 12.80it/s]\u001b[A\n",
      "training 1 epoch:   6%|█▌                       | 4/65 [00:00<00:04, 14.51it/s]\u001b[A\n",
      "training 1 epoch:   9%|██▎                      | 6/65 [00:00<00:03, 16.02it/s]\u001b[A\n",
      "training 1 epoch:  14%|███▍                     | 9/65 [00:00<00:03, 17.44it/s]\u001b[A\n",
      "training 1 epoch:  18%|████▍                   | 12/65 [00:00<00:02, 18.13it/s]\u001b[A\n",
      "training 1 epoch:  23%|█████▌                  | 15/65 [00:00<00:02, 19.18it/s]\u001b[A\n",
      "training 1 epoch:  26%|██████▎                 | 17/65 [00:00<00:02, 18.94it/s]\u001b[A\n",
      "training 1 epoch:  29%|███████                 | 19/65 [00:01<00:02, 18.76it/s]\u001b[A\n",
      "training 1 epoch:  32%|███████▊                | 21/65 [00:01<00:02, 18.62it/s]\u001b[A\n",
      "training 1 epoch:  37%|████████▊               | 24/65 [00:01<00:02, 18.84it/s]\u001b[A\n",
      "training 1 epoch:  42%|█████████▉              | 27/65 [00:01<00:02, 18.96it/s]\u001b[A\n",
      "training 1 epoch:  46%|███████████             | 30/65 [00:01<00:01, 19.04it/s]\u001b[A\n",
      "training 1 epoch:  51%|████████████▏           | 33/65 [00:01<00:01, 19.09it/s]\u001b[A\n",
      "training 1 epoch:  55%|█████████████▎          | 36/65 [00:01<00:01, 19.13it/s]\u001b[A\n",
      "training 1 epoch:  60%|██████████████▍         | 39/65 [00:02<00:01, 19.76it/s]\u001b[A\n",
      "training 1 epoch:  63%|███████████████▏        | 41/65 [00:02<00:01, 19.40it/s]\u001b[A\n",
      "training 1 epoch:  66%|███████████████▉        | 43/65 [00:02<00:01, 19.12it/s]\u001b[A\n",
      "training 1 epoch:  69%|████████████████▌       | 45/65 [00:02<00:01, 18.89it/s]\u001b[A\n",
      "training 1 epoch:  74%|█████████████████▋      | 48/65 [00:02<00:00, 18.99it/s]\u001b[A\n",
      "training 1 epoch:  78%|██████████████████▊     | 51/65 [00:02<00:00, 19.73it/s]\u001b[A\n",
      "training 1 epoch:  82%|███████████████████▌    | 53/65 [00:02<00:00, 19.35it/s]\u001b[A\n",
      "training 1 epoch:  85%|████████████████████▎   | 55/65 [00:02<00:00, 19.06it/s]\u001b[A\n",
      "training 1 epoch:  88%|█████████████████████   | 57/65 [00:03<00:00, 18.85it/s]\u001b[A\n",
      "training 1 epoch:  92%|██████████████████████▏ | 60/65 [00:03<00:00, 18.97it/s]\u001b[A\n",
      "training 1 epoch:  97%|███████████████████████▎| 63/65 [00:03<00:00, 19.72it/s]\u001b[A\n",
      "training 1 epoch: 100%|████████████████████████| 65/65 [00:03<00:00, 18.82it/s]\u001b[A\n"
     ]
    },
    {
     "name": "stdout",
     "output_type": "stream",
     "text": [
      "Epoch train time: 3.4540390968322754   Time per sample: 0.0008345105331800617\n"
     ]
    },
    {
     "name": "stderr",
     "output_type": "stream",
     "text": [
      "\n",
      "Validating:   0%|                                        | 0/9 [00:00<?, ?it/s]\u001b[A\n",
      "Validating:  33%|██████████▋                     | 3/9 [00:00<00:00, 21.11it/s]\u001b[A\n",
      "Validating:  67%|█████████████████████▎          | 6/9 [00:00<00:00, 21.33it/s]\u001b[A\n",
      "Validating: 100%|████████████████████████████████| 9/9 [00:00<00:00, 23.02it/s]\u001b[A\n",
      "epochs:  87%|█████████████████████████████▍    | 13/15 [00:49<00:07,  3.83s/it]"
     ]
    },
    {
     "name": "stdout",
     "output_type": "stream",
     "text": [
      "Val confusion matrix:\n",
      "[[236  19]\n",
      " [ 25 237]]\n",
      "255 frames don't have pedestrian, 262 frames have pedestrian\n",
      "TP: 236, FP: 25, FN: 19\n",
      "Precision: 0.9042145593869731, Recall: 0.9254901960784314\n",
      "Epoch 12: Saving model to ./checkpoints/resnet18_HOG_fd_conv1 with val accuracy 91.48936170212765%\n"
     ]
    },
    {
     "name": "stderr",
     "output_type": "stream",
     "text": [
      "\n",
      "training 1 epoch:   0%|                                 | 0/65 [00:00<?, ?it/s]\u001b[A\n",
      "training 1 epoch:   3%|▊                        | 2/65 [00:00<00:03, 18.29it/s]\u001b[A\n",
      "training 1 epoch:   6%|█▌                       | 4/65 [00:00<00:03, 18.29it/s]\u001b[A\n",
      "training 1 epoch:   9%|██▎                      | 6/65 [00:00<00:03, 18.29it/s]\u001b[A\n",
      "training 1 epoch:  14%|███▍                     | 9/65 [00:00<00:02, 18.73it/s]\u001b[A\n",
      "training 1 epoch:  18%|████▍                   | 12/65 [00:00<00:02, 18.92it/s]\u001b[A\n",
      "training 1 epoch:  23%|█████▌                  | 15/65 [00:00<00:02, 19.02it/s]\u001b[A\n",
      "training 1 epoch:  28%|██████▋                 | 18/65 [00:00<00:02, 19.08it/s]\u001b[A\n",
      "training 1 epoch:  32%|███████▊                | 21/65 [00:01<00:02, 19.10it/s]\u001b[A\n",
      "training 1 epoch:  35%|████████▍               | 23/65 [00:01<00:02, 18.90it/s]\u001b[A\n",
      "training 1 epoch:  40%|█████████▌              | 26/65 [00:01<00:02, 19.00it/s]\u001b[A\n",
      "training 1 epoch:  45%|██████████▋             | 29/65 [00:01<00:01, 19.06it/s]\u001b[A\n",
      "training 1 epoch:  49%|███████████▊            | 32/65 [00:01<00:01, 19.11it/s]\u001b[A\n",
      "training 1 epoch:  54%|████████████▉           | 35/65 [00:01<00:01, 19.14it/s]\u001b[A\n",
      "training 1 epoch:  58%|██████████████          | 38/65 [00:02<00:01, 19.16it/s]\u001b[A\n",
      "training 1 epoch:  63%|███████████████▏        | 41/65 [00:02<00:01, 19.17it/s]\u001b[A\n",
      "training 1 epoch:  68%|████████████████▏       | 44/65 [00:02<00:01, 19.18it/s]\u001b[A\n",
      "training 1 epoch:  71%|████████████████▉       | 46/65 [00:02<00:01, 18.97it/s]\u001b[A\n",
      "training 1 epoch:  75%|██████████████████      | 49/65 [00:02<00:00, 19.04it/s]\u001b[A\n",
      "training 1 epoch:  80%|███████████████████▏    | 52/65 [00:02<00:00, 19.09it/s]\u001b[A\n",
      "training 1 epoch:  85%|████████████████████▎   | 55/65 [00:02<00:00, 19.12it/s]\u001b[A\n",
      "training 1 epoch:  88%|█████████████████████   | 57/65 [00:03<00:00, 18.92it/s]\u001b[A\n",
      "training 1 epoch:  92%|██████████████████████▏ | 60/65 [00:03<00:00, 19.01it/s]\u001b[A\n",
      "training 1 epoch: 100%|████████████████████████| 65/65 [00:03<00:00, 19.08it/s]\u001b[A\n"
     ]
    },
    {
     "name": "stdout",
     "output_type": "stream",
     "text": [
      "Epoch train time: 3.4071292877197266   Time per sample: 0.0008231769238269453\n"
     ]
    },
    {
     "name": "stderr",
     "output_type": "stream",
     "text": [
      "\n",
      "Validating:   0%|                                        | 0/9 [00:00<?, ?it/s]\u001b[A\n",
      "Validating:  33%|██████████▋                     | 3/9 [00:00<00:00, 21.33it/s]\u001b[A\n",
      "Validating:  67%|█████████████████████▎          | 6/9 [00:00<00:00, 21.33it/s]\u001b[A\n",
      "Validating: 100%|████████████████████████████████| 9/9 [00:00<00:00, 23.03it/s]\u001b[A\n",
      "epochs:  93%|███████████████████████████████▋  | 14/15 [00:53<00:03,  3.82s/it]"
     ]
    },
    {
     "name": "stdout",
     "output_type": "stream",
     "text": [
      "Val confusion matrix:\n",
      "[[232  23]\n",
      " [ 22 240]]\n",
      "255 frames don't have pedestrian, 262 frames have pedestrian\n",
      "TP: 232, FP: 22, FN: 23\n",
      "Precision: 0.9133858267716536, Recall: 0.9098039215686274\n"
     ]
    },
    {
     "name": "stderr",
     "output_type": "stream",
     "text": [
      "\n",
      "training 1 epoch:   0%|                                 | 0/65 [00:00<?, ?it/s]\u001b[A\n",
      "training 1 epoch:   3%|▊                        | 2/65 [00:00<00:03, 18.29it/s]\u001b[A\n",
      "training 1 epoch:   6%|█▌                       | 4/65 [00:00<00:03, 18.28it/s]\u001b[A\n",
      "training 1 epoch:   9%|██▎                      | 6/65 [00:00<00:03, 18.29it/s]\u001b[A\n",
      "training 1 epoch:  14%|███▍                     | 9/65 [00:00<00:02, 18.73it/s]\u001b[A\n",
      "training 1 epoch:  18%|████▍                   | 12/65 [00:00<00:02, 18.92it/s]\u001b[A\n",
      "training 1 epoch:  23%|█████▌                  | 15/65 [00:00<00:02, 19.02it/s]\u001b[A\n",
      "training 1 epoch:  26%|██████▎                 | 17/65 [00:00<00:02, 18.82it/s]\u001b[A\n",
      "training 1 epoch:  31%|███████▍                | 20/65 [00:01<00:02, 18.94it/s]\u001b[A\n",
      "training 1 epoch:  35%|████████▍               | 23/65 [00:01<00:02, 19.03it/s]\u001b[A\n",
      "training 1 epoch:  40%|█████████▌              | 26/65 [00:01<00:02, 19.08it/s]\u001b[A\n",
      "training 1 epoch:  45%|██████████▋             | 29/65 [00:01<00:01, 19.12it/s]\u001b[A\n",
      "training 1 epoch:  49%|███████████▊            | 32/65 [00:01<00:01, 19.15it/s]\u001b[A\n",
      "training 1 epoch:  52%|████████████▌           | 34/65 [00:01<00:01, 18.94it/s]\u001b[A\n",
      "training 1 epoch:  57%|█████████████▋          | 37/65 [00:01<00:01, 19.03it/s]\u001b[A\n",
      "training 1 epoch:  62%|██████████████▊         | 40/65 [00:02<00:01, 19.08it/s]\u001b[A\n",
      "training 1 epoch:  65%|███████████████▌        | 42/65 [00:02<00:01, 18.89it/s]\u001b[A\n",
      "training 1 epoch:  69%|████████████████▌       | 45/65 [00:02<00:01, 18.99it/s]\u001b[A\n",
      "training 1 epoch:  72%|█████████████████▎      | 47/65 [00:02<00:00, 18.82it/s]\u001b[A\n",
      "training 1 epoch:  77%|██████████████████▍     | 50/65 [00:02<00:00, 18.94it/s]\u001b[A\n",
      "training 1 epoch:  82%|███████████████████▌    | 53/65 [00:02<00:00, 19.02it/s]\u001b[A\n",
      "training 1 epoch:  86%|████████████████████▋   | 56/65 [00:02<00:00, 19.08it/s]\u001b[A\n",
      "training 1 epoch:  89%|█████████████████████▍  | 58/65 [00:03<00:00, 18.89it/s]\u001b[A\n",
      "training 1 epoch:  94%|██████████████████████▌ | 61/65 [00:03<00:00, 18.99it/s]\u001b[A\n",
      "training 1 epoch: 100%|████████████████████████| 65/65 [00:03<00:00, 19.08it/s]\u001b[A\n"
     ]
    },
    {
     "name": "stdout",
     "output_type": "stream",
     "text": [
      "Epoch train time: 3.422442674636841   Time per sample: 0.0008268767032222374\n"
     ]
    },
    {
     "name": "stderr",
     "output_type": "stream",
     "text": [
      "\n",
      "Validating:   0%|                                        | 0/9 [00:00<?, ?it/s]\u001b[A\n",
      "Validating:  33%|██████████▋                     | 3/9 [00:00<00:00, 21.33it/s]\u001b[A\n",
      "Validating:  67%|█████████████████████▎          | 6/9 [00:00<00:00, 21.33it/s]\u001b[A\n",
      "Validating: 100%|████████████████████████████████| 9/9 [00:00<00:00, 23.03it/s]\u001b[A\n",
      "epochs: 100%|██████████████████████████████████| 15/15 [00:57<00:00,  3.80s/it]"
     ]
    },
    {
     "name": "stdout",
     "output_type": "stream",
     "text": [
      "Val confusion matrix:\n",
      "[[228  27]\n",
      " [ 19 243]]\n",
      "255 frames don't have pedestrian, 262 frames have pedestrian\n",
      "TP: 228, FP: 19, FN: 27\n",
      "Precision: 0.9230769230769231, Recall: 0.8941176470588236\n"
     ]
    },
    {
     "name": "stderr",
     "output_type": "stream",
     "text": [
      "\n"
     ]
    }
   ],
   "source": [
    "train_errors, val_errors = train(model, train_dataloader, val_dataloader, save_path)"
   ]
  },
  {
   "cell_type": "code",
   "execution_count": 215,
   "metadata": {},
   "outputs": [],
   "source": [
    "def test(model, test_dataloader, save_path, test_type):\n",
    "    starttime = time()\n",
    "    correct = 0\n",
    "    total = 0\n",
    "    model.eval()\n",
    "    all_predicted = torch.tensor([]).to(device)\n",
    "    all_labels = torch.tensor([]).to(device)\n",
    "    all_pred_probs = torch.tensor([]).to(device)\n",
    "    # since we're not training, we don't need to calculate the gradients for our outputs\n",
    "    with torch.no_grad():\n",
    "        for images, labels in tqdm(test_dataloader, desc=\"testing\"):\n",
    "            images = images.to(device)\n",
    "            labels = labels.to(device)\n",
    "\n",
    "            # calculate outputs by running images through the network\n",
    "            outputs = model(images)\n",
    "\n",
    "            # the class with the highest energy is what we choose as prediction\n",
    "            _, predicted = torch.max(outputs.data, 1)\n",
    "            total += labels.size(0)\n",
    "            correct += (predicted == labels).sum().item()\n",
    "            all_predicted = torch.cat((all_predicted, predicted))\n",
    "            all_labels = torch.cat((all_labels, labels))\n",
    "            all_pred_probs = torch.cat((all_pred_probs, outputs.data))\n",
    "            # break # TODO: remove this\n",
    "    \n",
    "    testtime = time() - starttime\n",
    "    print(f\"Total test time: {testtime}   Time per sample: {testtime / len(test_dataloader.dataset)}\")\n",
    "    # Let's say y_true is your true binary labels and y_pred_probs is the predicted probabilities for the positive class\n",
    "    # You should replace them with your actual variables\n",
    "\n",
    "    # Compute ROC curve and ROC area for each class\n",
    "    fpr, tpr, _ = roc_curve(all_labels.cpu(), all_pred_probs[:,1].cpu(), pos_label=1)\n",
    "    roc_auc = auc(fpr, tpr)\n",
    "    print(\"ROC curve area:\", roc_auc)\n",
    "\n",
    "    # Plotting the ROC curve\n",
    "    plt.figure()\n",
    "    lw = 2\n",
    "    plt.plot(fpr, tpr, color='darkorange', lw=lw, label='ROC curve (area = %0.2f)' % roc_auc)\n",
    "    plt.plot([0, 1], [0, 1], color='navy', lw=lw, linestyle='--')\n",
    "    plt.xlim([0.0, 1.0])\n",
    "    plt.ylim([0.0, 1.05])\n",
    "    plt.xlabel('False Positive Rate')\n",
    "    plt.ylabel('True Positive Rate')\n",
    "    plt.legend(loc=\"lower right\")\n",
    "\n",
    "    conf_matrix = confusion_matrix(all_labels.cpu(), all_predicted.cpu())\n",
    "    print(conf_matrix)\n",
    "    print(f\"{conf_matrix[0].sum().item()} frames don't have pedestrian, {conf_matrix[1].sum().item()} frames have pedestrian\")\n",
    "    tp = conf_matrix[0,0]\n",
    "    fp = conf_matrix[1,0]\n",
    "    fn = conf_matrix[0,1]\n",
    "    print(f\"TP: {tp}, FP: {fp}, FN: {fn}\")\n",
    "    print(f\"Precision: {tp/(tp+fp)}, Recall: {tp/(tp+fn)}\")\n",
    "    accuracy = 100 * correct / total\n",
    "    print(f\"Accuracy for {save_path}: {accuracy}\")\n",
    "    plt.show()"
   ]
  },
  {
   "cell_type": "code",
   "execution_count": 216,
   "metadata": {},
   "outputs": [
    {
     "name": "stdout",
     "output_type": "stream",
     "text": [
      "Successfully Loaded Saved Model\n"
     ]
    },
    {
     "name": "stderr",
     "output_type": "stream",
     "text": [
      "testing: 100%|███████████████████████████████████| 9/9 [00:00<00:00, 19.89it/s]\n"
     ]
    },
    {
     "name": "stdout",
     "output_type": "stream",
     "text": [
      "Total test time: 0.4525728225708008   Time per sample: 0.0008736927076656386\n",
      "ROC curve area: 0.9599772835963654\n",
      "[[219  27]\n",
      " [ 24 248]]\n",
      "246 frames don't have pedestrian, 272 frames have pedestrian\n",
      "TP: 219, FP: 24, FN: 27\n",
      "Precision: 0.9012345679012346, Recall: 0.8902439024390244\n",
      "Accuracy for ./checkpoints/resnet18_HOG_fd_conv1: 90.15444015444015\n"
     ]
    },
    {
     "data": {
      "image/png": "[encoded data removed]",
      "text/plain": [
       "<Figure size 640x480 with 1 Axes>"
      ]
     },
     "metadata": {},
     "output_type": "display_data"
    }
   ],
   "source": [
    "try:\n",
    "    model.load_state_dict(torch.load(save_path))\n",
    "    print(\"Successfully Loaded Saved Model\")\n",
    "except Exception as error:\n",
    "    print(\"Failed to load Saved Model\")\n",
    "    print(error)\n",
    "model.to(device)\n",
    "\n",
    "test(model, test_dataloader, save_path, \"HOG\")"
   ]
  },
  {
   "cell_type": "code",
   "execution_count": 217,
   "metadata": {},
   "outputs": [
    {
     "data": {
      "text/plain": [
       "<matplotlib.legend.Legend at 0x2420a913e50>"
      ]
     },
     "execution_count": 217,
     "metadata": {},
     "output_type": "execute_result"
    },
    {
     "data": {
      "image/png": "[encoded data removed]",
      "text/plain": [
       "<Figure size 640x480 with 1 Axes>"
      ]
     },
     "metadata": {},
     "output_type": "display_data"
    }
   ],
   "source": [
    "# Plot training curves\n",
    "plt.plot(train_errors, label='Training loss', color='blue')\n",
    "plt.plot(val_errors, label='Val loss',color='orange')\n",
    "plt.ylabel(\"CE Loss\")\n",
    "plt.xlabel(\"Epoch\")\n",
    "plt.ylim([0,0.6])\n",
    "plt.legend()"
   ]
  },
  {
   "cell_type": "markdown",
   "metadata": {},
   "source": [
    "# Look at filters for conv1_hog"
   ]
  },
  {
   "cell_type": "code",
   "execution_count": 222,
   "metadata": {},
   "outputs": [],
   "source": [
    "filters = model.module.model[0].weight.squeeze().cpu().detach()"
   ]
  },
  {
   "cell_type": "code",
   "execution_count": 223,
   "metadata": {},
   "outputs": [],
   "source": [
    "# filters = torch.softmax(filters,0)"
   ]
  },
  {
   "cell_type": "code",
   "execution_count": 224,
   "metadata": {},
   "outputs": [
    {
     "data": {
      "image/png": "[encoded data removed]",
      "text/plain": [
       "<Figure size 640x480 with 1 Axes>"
      ]
     },
     "metadata": {},
     "output_type": "display_data"
    },
    {
     "data": {
      "image/png": "[encoded data removed]",
      "text/plain": [
       "<Figure size 640x480 with 1 Axes>"
      ]
     },
     "metadata": {},
     "output_type": "display_data"
    },
    {
     "data": {
      "image/png": "[encoded data removed]",
      "text/plain": [
       "<Figure size 640x480 with 1 Axes>"
      ]
     },
     "metadata": {},
     "output_type": "display_data"
    },
    {
     "data": {
      "image/png": "[encoded data removed]",
      "text/plain": [
       "<Figure size 640x480 with 1 Axes>"
      ]
     },
     "metadata": {},
     "output_type": "display_data"
    },
    {
     "data": {
      "image/png": "[encoded data removed]",
      "text/plain": [
       "<Figure size 640x480 with 1 Axes>"
      ]
     },
     "metadata": {},
     "output_type": "display_data"
    },
    {
     "data": {
      "image/png": "[encoded data removed]",
      "text/plain": [
       "<Figure size 640x480 with 1 Axes>"
      ]
     },
     "metadata": {},
     "output_type": "display_data"
    },
    {
     "data": {
      "image/png": "[encoded data removed]",
      "text/plain": [
       "<Figure size 640x480 with 1 Axes>"
      ]
     },
     "metadata": {},
     "output_type": "display_data"
    },
    {
     "data": {
      "image/png": "[encoded data removed]",
      "text/plain": [
       "<Figure size 640x480 with 1 Axes>"
      ]
     },
     "metadata": {},
     "output_type": "display_data"
    },
    {
     "data": {
      "image/png": "[encoded data removed]",
      "text/plain": [
       "<Figure size 640x480 with 1 Axes>"
      ]
     },
     "metadata": {},
     "output_type": "display_data"
    }
   ],
   "source": [
    "for filter in filters:\n",
    "    plt.imshow(filter,cmap='gray')\n",
    "    plt.show()"
   ]
  },
  {
   "cell_type": "code",
   "execution_count": 225,
   "metadata": {},
   "outputs": [
    {
     "name": "stdout",
     "output_type": "stream",
     "text": [
      "(16, 8, 9)\n"
     ]
    }
   ],
   "source": [
    "from skimage import draw\n",
    "c_row=16\n",
    "c_col=16\n",
    "b_row, b_col = 2,2\n",
    "\n",
    "orientation_histogram = filters.permute(1,2,0).cpu().numpy()\n",
    "\n",
    "print(orientation_histogram.shape)\n",
    "\n",
    "n_cells_row,n_cells_col,orientations = orientation_histogram.shape\n",
    "s_row = c_row * n_cells_row\n",
    "s_col = c_col * n_cells_col\n",
    "\n",
    "radius = min(c_row, c_col) // 2 - 1\n",
    "orientations_arr = np.arange(orientations)\n",
    "# set dr_arr, dc_arr to correspond to midpoints of orientation bins\n",
    "orientation_bin_midpoints = (\n",
    "    np.pi * (orientations_arr + .5) / orientations)\n",
    "dr_arr = radius * np.sin(orientation_bin_midpoints)\n",
    "dc_arr = radius * np.cos(orientation_bin_midpoints)\n",
    "hog_image = np.zeros((s_row, s_col), dtype=float)\n",
    "for r in range(n_cells_row):\n",
    "    for c in range(n_cells_col):\n",
    "        for o, dr, dc in zip(orientations_arr, dr_arr, dc_arr):\n",
    "            centre = tuple([r * c_row + c_row // 2,\n",
    "                            c * c_col + c_col // 2])\n",
    "            rr, cc = draw.line(int(centre[0] - dc),\n",
    "                               int(centre[1] + dr),\n",
    "                               int(centre[0] + dc),\n",
    "                               int(centre[1] - dr))\n",
    "            hog_image[rr, cc] += orientation_histogram[r, c, o]"
   ]
  },
  {
   "cell_type": "code",
   "execution_count": 227,
   "metadata": {},
   "outputs": [
    {
     "data": {
      "text/plain": [
       "<matplotlib.image.AxesImage at 0x2420f7c0bd0>"
      ]
     },
     "execution_count": 227,
     "metadata": {},
     "output_type": "execute_result"
    },
    {
     "data": {
      "image/png": "[encoded data removed]",
      "text/plain": [
       "<Figure size 640x480 with 1 Axes>"
      ]
     },
     "metadata": {},
     "output_type": "display_data"
    }
   ],
   "source": [
    "plt.imshow(hog_image, cmap='gray')"
   ]
  },
  {
   "cell_type": "code",
   "execution_count": null,
   "metadata": {},
   "outputs": [],
   "source": []
  }
 ],
 "metadata": {
  "kernelspec": {
   "display_name": "Python 3 (ipykernel)",
   "language": "python",
   "name": "python3"
  },
  "language_info": {
   "codemirror_mode": {
    "name": "ipython",
    "version": 3
   },
   "file_extension": ".py",
   "mimetype": "text/x-python",
   "name": "python",
   "nbconvert_exporter": "python",
   "pygments_lexer": "ipython3",
   "version": "3.11.5"
  }
 },
 "nbformat": 4,
 "nbformat_minor": 4
}
