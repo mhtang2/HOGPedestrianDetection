{
 "cells": [
  {
   "cell_type": "code",
   "execution_count": 9,
   "metadata": {},
   "outputs": [],
   "source": [
    "%matplotlib inline\n",
    "import torch\n",
    "import pandas as pd\n",
    "import numpy as np\n",
    "import gdown\n",
    "import zipfile\n",
    "import json\n",
    "import os\n",
    "from torch.utils.data import Dataset, DataLoader, random_split\n",
    "from torchvision import transforms, utils\n",
    "from torchvision.transforms.functional import to_pil_image\n",
    "from torchvision.io import read_image \n",
    "import torchvision\n",
    "import PIL\n",
    "from sklearn.metrics import confusion_matrix, roc_curve, auc\n",
    "from time import time\n",
    "from tqdm import tqdm\n",
    "import matplotlib.pyplot as plt\n"
   ]
  },
  {
   "cell_type": "code",
   "execution_count": 2,
   "metadata": {},
   "outputs": [
    {
     "data": {
      "text/plain": [
       "'cuda'"
      ]
     },
     "execution_count": 2,
     "metadata": {},
     "output_type": "execute_result"
    }
   ],
   "source": [
    "device = 'cuda' if torch.cuda.is_available() else 'cpu'\n",
    "device"
   ]
  },
  {
   "cell_type": "markdown",
   "metadata": {},
   "source": [
    "# Load dataset"
   ]
  },
  {
   "cell_type": "code",
   "execution_count": 3,
   "metadata": {},
   "outputs": [],
   "source": [
    "def select_equal_samples(data, label_column='label'):\n",
    "    \"\"\" Select equal # of pos/neg samples \"\"\"\n",
    "    positive_samples = data[data[label_column] == True]\n",
    "    negative_samples = data[data[label_column] == False]\n",
    "\n",
    "    # Determine the number of samples to select (minimum of positive and negative samples)\n",
    "    num_samples = min(len(positive_samples), len(negative_samples))\n",
    "\n",
    "    # Randomly select equal number of positive and negative samples without replacement\n",
    "    selected_positive_samples = positive_samples.sample(n=num_samples, random_state=42, replace=False)\n",
    "    selected_negative_samples = negative_samples.sample(n=num_samples, random_state=42, replace=False)\n",
    "\n",
    "    # Concatenate the selected samples\n",
    "    selected_samples = pd.concat([selected_positive_samples, selected_negative_samples])\n",
    "\n",
    "    return selected_samples"
   ]
  },
  {
   "cell_type": "code",
   "execution_count": 4,
   "metadata": {},
   "outputs": [],
   "source": [
    "class HOG_PedestrianClassificationDataset(Dataset):\n",
    "\n",
    "    def __init__(self, labels_csv, root_dir, balance_labels=True, transform=None):\n",
    "        self.labels = pd.read_csv(labels_csv)\n",
    "        if balance_labels:\n",
    "            self.labels = select_equal_samples(self.labels)\n",
    "        self.root_dir = root_dir\n",
    "        self.transform = transform\n",
    "        self.class_to_idx = {True: 1, False: 0}\n",
    "        # self.image_files = sorted(self.labels['image'])\n",
    "\n",
    "    def __len__(self):\n",
    "        return len(self.labels)\n",
    "\n",
    "    def __getitem__(self, idx):\n",
    "        row = self.labels.iloc[idx]\n",
    "        image_name = row['image'] + \".npy\"\n",
    "        image_name = os.path.join(self.root_dir, image_name) \n",
    "        image = np.load(image_name)\n",
    "        image = image.reshape(image.shape[0], image.shape[1], -1) # flatten last 3 dimensions\n",
    "        image = torch.from_numpy(image.transpose((2,0,1))).float()\n",
    "        label = self.class_to_idx[row['label']]\n",
    "        if self.transform:\n",
    "            image = self.transform(image)\n",
    "        return (image, label)"
   ]
  },
  {
   "cell_type": "code",
   "execution_count": 5,
   "metadata": {},
   "outputs": [
    {
     "name": "stdout",
     "output_type": "stream",
     "text": [
      "Dataset len:  5174\n",
      "torch.Size([36, 23, 35])\n"
     ]
    }
   ],
   "source": [
    "dataset = HOG_PedestrianClassificationDataset(\"./processed_labels.csv\",\"./road-waymo/hog-fd/\", balance_labels=True, transform = None)\n",
    "print(f\"Dataset len:  {len(dataset)}\")\n",
    "\n",
    "sample = dataset[5000]\n",
    "print(sample[0].shape)\n",
    "# to_pil_image(sample[0])"
   ]
  },
  {
   "cell_type": "code",
   "execution_count": 6,
   "metadata": {},
   "outputs": [],
   "source": [
    "# Split training and testing\n",
    "train_ratio = 0.8\n",
    "val_ratio = 0.1\n",
    "\n",
    "dataset_size = len(dataset)\n",
    "train_size = int(train_ratio * dataset_size)\n",
    "val_size = int(val_ratio * dataset_size)\n",
    "test_size = dataset_size - train_size - val_size\n",
    "\n",
    "# Use random_split to split the dataset into training and testing sets.\n",
    "train_dataset, val_dataset, test_dataset = random_split(dataset, [train_size, val_size, test_size])"
   ]
  },
  {
   "cell_type": "code",
   "execution_count": 7,
   "metadata": {},
   "outputs": [],
   "source": [
    "batch_size = 64\n",
    "train_dataloader = DataLoader(train_dataset, batch_size=batch_size, shuffle=True)\n",
    "val_dataloader = DataLoader(val_dataset, batch_size=batch_size, shuffle=True)\n",
    "test_dataloader = DataLoader(test_dataset, batch_size=batch_size, shuffle=True)"
   ]
  },
  {
   "cell_type": "markdown",
   "metadata": {},
   "source": [
    "# Experiments"
   ]
  },
  {
   "cell_type": "code",
   "execution_count": null,
   "metadata": {},
   "outputs": [],
   "source": [
    "# define model types for two experiments"
   ]
  },
  {
   "cell_type": "code",
   "execution_count": 16,
   "metadata": {},
   "outputs": [],
   "source": [
    "num_epoch = 15 # TODO: change num_epoch to like 10 or 15 or something\n",
    "def train(model, train_dataloader, val_dataloader, save_path):\n",
    "    \n",
    "    criterion = torch.nn.CrossEntropyLoss()\n",
    "    optimizer =  torch.optim.SGD(model.parameters(), lr=0.001, momentum=0.9)\n",
    "\n",
    "    best_accuracy = 0.0\n",
    "    val_error = []\n",
    "    train_error = []\n",
    "    \n",
    "    for epoch in tqdm(range(num_epoch), desc=\"epochs\"):  # loop over the dataset multiple times\n",
    "        model.train()\n",
    "        starttime = time()\n",
    "        trainloss = 0\n",
    "        for train_data in tqdm(train_dataloader, desc=\"training 1 epoch\"):\n",
    "            # get the inputs; data is a list of [inputs, labels]\n",
    "            inputs, labels = train_data\n",
    "\n",
    "            inputs = inputs.to(device)\n",
    "            labels = labels.to(device)\n",
    "\n",
    "            # zero the parameter gradients\n",
    "            optimizer.zero_grad()\n",
    "\n",
    "            # forward + backward + optimize\n",
    "            outputs = model(inputs)\n",
    "            loss = criterion(outputs, labels)\n",
    "            loss.backward()\n",
    "            trainloss += loss.cpu().item()\n",
    "            optimizer.step()\n",
    "            # break # TODO: delete this\n",
    "        \n",
    "        traintime = time() - starttime\n",
    "        print(f\"Epoch train time: {traintime}   Time per sample: {traintime / len(train_dataloader.dataset)}\")\n",
    "        train_error.append(trainloss / len(train_dataloader))\n",
    "        \n",
    "        # Validate\n",
    "        valloss = 0\n",
    "        correct = 0\n",
    "        total = 0\n",
    "        model.eval()\n",
    "        all_predicted = torch.tensor([]).to(device)\n",
    "        all_labels = torch.tensor([]).to(device)\n",
    "        all_pred_probs = torch.tensor([]).to(device)\n",
    "        with torch.no_grad():\n",
    "            for images, labels in tqdm(val_dataloader, desc=\"Validating\"):\n",
    "                images = images.to(device)\n",
    "                labels = labels.to(device)\n",
    "\n",
    "                # calculate outputs by running images through the network\n",
    "                outputs = model(images)\n",
    "                valloss += criterion(outputs, labels).cpu().item()\n",
    "                \n",
    "                # the class with the highest energy is what we choose as prediction\n",
    "                _, predicted = torch.max(outputs.data, 1)\n",
    "                total += labels.size(0)\n",
    "                correct += (predicted == labels).sum().item()\n",
    "                all_predicted = torch.cat((all_predicted, predicted))\n",
    "                all_labels = torch.cat((all_labels, labels))\n",
    "                all_pred_probs = torch.cat((all_pred_probs, outputs.data))\n",
    "                # break # TODO: delete this\n",
    "\n",
    "        val_error.append(valloss / len(val_dataloader))\n",
    "        \n",
    "        conf_matrix = confusion_matrix(all_labels.cpu(), all_predicted.cpu())\n",
    "        print(\"Val confusion matrix:\")\n",
    "        print(conf_matrix)\n",
    "        print(f\"{conf_matrix[0].sum().item()} frames don't have pedestrian, {conf_matrix[1].sum().item()} frames have pedestrian\")\n",
    "        \n",
    "        tp = conf_matrix[0,0]\n",
    "        fp = conf_matrix[1,0]\n",
    "        fn = conf_matrix[0,1]\n",
    "        print(f\"TP: {tp}, FP: {fp}, FN: {fn}\")\n",
    "        print(f\"Precision: {tp/(tp+fp)}, Recall: {tp/(tp+fn)}\")\n",
    "\n",
    "        accuracy = 100 * correct / total\n",
    "        if accuracy > best_accuracy:\n",
    "            best_accuracy = accuracy\n",
    "            print(f\"Epoch {epoch}: Saving model to {save_path} with val accuracy {accuracy}%\")\n",
    "            torch.save(model.state_dict(), save_path)\n",
    "    return train_error, val_error"
   ]
  },
  {
   "cell_type": "code",
   "execution_count": 18,
   "metadata": {},
   "outputs": [
    {
     "name": "stdout",
     "output_type": "stream",
     "text": [
      "Failed to load Saved Model\n",
      "[Errno 2] No such file or directory: './checkpoints/resnet18_HOG_fd_gpu'\n"
     ]
    },
    {
     "name": "stderr",
     "output_type": "stream",
     "text": [
      "epochs:   0%|                                                                                   | 0/10 [00:00<?, ?it/s]\n",
      "training 1 epoch:   0%|                                                                         | 0/65 [00:00<?, ?it/s]\u001b[A\n",
      "training 1 epoch:   2%|█                                                                | 1/65 [00:00<00:12,  4.92it/s]\u001b[A\n",
      "training 1 epoch:   3%|██                                                               | 2/65 [00:00<00:11,  5.70it/s]\u001b[A\n",
      "training 1 epoch:   5%|███                                                              | 3/65 [00:00<00:10,  5.75it/s]\u001b[A\n",
      "training 1 epoch:   6%|████                                                             | 4/65 [00:00<00:10,  5.78it/s]\u001b[A\n",
      "training 1 epoch:   8%|█████                                                            | 5/65 [00:00<00:09,  6.20it/s]\u001b[A\n",
      "training 1 epoch:   9%|██████                                                           | 6/65 [00:00<00:09,  6.48it/s]\u001b[A\n",
      "training 1 epoch:  11%|███████                                                          | 7/65 [00:01<00:08,  6.67it/s]\u001b[A\n",
      "training 1 epoch:  12%|████████                                                         | 8/65 [00:01<00:08,  6.81it/s]\u001b[A\n",
      "training 1 epoch:  14%|█████████                                                        | 9/65 [00:01<00:08,  6.90it/s]\u001b[A\n",
      "training 1 epoch:  15%|█████████▊                                                      | 10/65 [00:01<00:07,  7.20it/s]\u001b[A\n",
      "training 1 epoch:  17%|██████████▊                                                     | 11/65 [00:01<00:08,  6.71it/s]\u001b[A\n",
      "training 1 epoch:  18%|███████████▊                                                    | 12/65 [00:01<00:07,  6.83it/s]\u001b[A\n",
      "training 1 epoch:  20%|████████████▊                                                   | 13/65 [00:02<00:08,  6.29it/s]\u001b[A\n",
      "training 1 epoch:  22%|█████████████▊                                                  | 14/65 [00:02<00:08,  6.33it/s]\u001b[A\n",
      "training 1 epoch:  23%|██████████████▊                                                 | 15/65 [00:02<00:07,  6.35it/s]\u001b[A\n",
      "training 1 epoch:  25%|███████████████▊                                                | 16/65 [00:02<00:07,  6.18it/s]\u001b[A\n",
      "training 1 epoch:  26%|████████████████▋                                               | 17/65 [00:02<00:07,  6.24it/s]\u001b[A\n",
      "training 1 epoch:  28%|█████████████████▋                                              | 18/65 [00:02<00:07,  6.29it/s]\u001b[A\n",
      "training 1 epoch:  29%|██████████████████▋                                             | 19/65 [00:02<00:07,  6.32it/s]\u001b[A\n",
      "training 1 epoch:  31%|███████████████████▋                                            | 20/65 [00:03<00:06,  6.54it/s]\u001b[A\n",
      "training 1 epoch:  32%|████████████████████▋                                           | 21/65 [00:03<00:06,  6.50it/s]\u001b[A\n",
      "training 1 epoch:  34%|█████████████████████▋                                          | 22/65 [00:03<00:06,  6.47it/s]\u001b[A\n",
      "training 1 epoch:  35%|██████████████████████▋                                         | 23/65 [00:03<00:06,  6.45it/s]\u001b[A\n",
      "training 1 epoch:  37%|███████████████████████▋                                        | 24/65 [00:03<00:06,  6.43it/s]\u001b[A\n",
      "training 1 epoch:  38%|████████████████████████▌                                       | 25/65 [00:03<00:06,  6.62it/s]\u001b[A\n",
      "training 1 epoch:  40%|█████████████████████████▌                                      | 26/65 [00:04<00:05,  6.55it/s]\u001b[A\n",
      "training 1 epoch:  42%|██████████████████████████▌                                     | 27/65 [00:04<00:05,  6.51it/s]\u001b[A\n",
      "training 1 epoch:  43%|███████████████████████████▌                                    | 28/65 [00:04<00:05,  6.47it/s]\u001b[A\n",
      "training 1 epoch:  45%|████████████████████████████▌                                   | 29/65 [00:04<00:05,  6.65it/s]\u001b[A\n",
      "training 1 epoch:  46%|█████████████████████████████▌                                  | 30/65 [00:04<00:05,  6.57it/s]\u001b[A\n",
      "training 1 epoch:  48%|██████████████████████████████▌                                 | 31/65 [00:04<00:05,  6.52it/s]\u001b[A\n",
      "training 1 epoch:  49%|███████████████████████████████▌                                | 32/65 [00:04<00:05,  6.48it/s]\u001b[A\n",
      "training 1 epoch:  51%|████████████████████████████████▍                               | 33/65 [00:05<00:04,  6.66it/s]\u001b[A\n",
      "training 1 epoch:  52%|█████████████████████████████████▍                              | 34/65 [00:05<00:04,  6.58it/s]\u001b[A\n",
      "training 1 epoch:  54%|██████████████████████████████████▍                             | 35/65 [00:05<00:04,  6.52it/s]\u001b[A\n",
      "training 1 epoch:  55%|███████████████████████████████████▍                            | 36/65 [00:05<00:04,  6.48it/s]\u001b[A\n",
      "training 1 epoch:  57%|████████████████████████████████████▍                           | 37/65 [00:05<00:04,  6.46it/s]\u001b[A\n",
      "training 1 epoch:  58%|█████████████████████████████████████▍                          | 38/65 [00:05<00:04,  6.44it/s]\u001b[A\n",
      "training 1 epoch:  60%|██████████████████████████████████████▍                         | 39/65 [00:06<00:04,  6.43it/s]\u001b[A\n",
      "training 1 epoch:  62%|███████████████████████████████████████▍                        | 40/65 [00:06<00:03,  6.42it/s]\u001b[A\n",
      "training 1 epoch:  63%|████████████████████████████████████████▎                       | 41/65 [00:06<00:03,  6.41it/s]\u001b[A\n",
      "training 1 epoch:  65%|█████████████████████████████████████████▎                      | 42/65 [00:06<00:03,  6.41it/s]\u001b[A\n",
      "training 1 epoch:  66%|██████████████████████████████████████████▎                     | 43/65 [00:06<00:03,  6.41it/s]\u001b[A\n",
      "training 1 epoch:  68%|███████████████████████████████████████████▎                    | 44/65 [00:06<00:03,  6.40it/s]\u001b[A\n",
      "training 1 epoch:  69%|████████████████████████████████████████████▎                   | 45/65 [00:06<00:03,  6.40it/s]\u001b[A\n",
      "training 1 epoch:  71%|█████████████████████████████████████████████▎                  | 46/65 [00:07<00:02,  6.40it/s]\u001b[A\n",
      "training 1 epoch:  72%|██████████████████████████████████████████████▎                 | 47/65 [00:07<00:02,  6.60it/s]\u001b[A\n",
      "training 1 epoch:  74%|███████████████████████████████████████████████▎                | 48/65 [00:07<00:02,  6.54it/s]\u001b[A\n",
      "training 1 epoch:  75%|████████████████████████████████████████████████▏               | 49/65 [00:07<00:02,  6.49it/s]\u001b[A\n",
      "training 1 epoch:  77%|█████████████████████████████████████████████████▏              | 50/65 [00:07<00:02,  6.67it/s]\u001b[A\n",
      "training 1 epoch:  78%|██████████████████████████████████████████████████▏             | 51/65 [00:07<00:02,  6.58it/s]\u001b[A\n",
      "training 1 epoch:  80%|███████████████████████████████████████████████████▏            | 52/65 [00:08<00:01,  6.53it/s]\u001b[A\n",
      "training 1 epoch:  82%|████████████████████████████████████████████████████▏           | 53/65 [00:08<00:01,  6.49it/s]\u001b[A\n",
      "training 1 epoch:  83%|█████████████████████████████████████████████████████▏          | 54/65 [00:08<00:01,  6.46it/s]\u001b[A\n",
      "training 1 epoch:  85%|██████████████████████████████████████████████████████▏         | 55/65 [00:08<00:01,  6.44it/s]\u001b[A\n",
      "training 1 epoch:  86%|███████████████████████████████████████████████████████▏        | 56/65 [00:08<00:01,  6.43it/s]\u001b[A\n",
      "training 1 epoch:  88%|████████████████████████████████████████████████████████        | 57/65 [00:08<00:01,  6.23it/s]\u001b[A\n",
      "training 1 epoch:  89%|█████████████████████████████████████████████████████████       | 58/65 [00:09<00:01,  6.28it/s]\u001b[A\n",
      "training 1 epoch:  91%|██████████████████████████████████████████████████████████      | 59/65 [00:09<00:00,  6.32it/s]\u001b[A\n",
      "training 1 epoch:  92%|███████████████████████████████████████████████████████████     | 60/65 [00:09<00:00,  6.34it/s]\u001b[A\n",
      "training 1 epoch:  94%|████████████████████████████████████████████████████████████    | 61/65 [00:09<00:00,  6.36it/s]\u001b[A\n",
      "training 1 epoch:  95%|█████████████████████████████████████████████████████████████   | 62/65 [00:09<00:00,  6.37it/s]\u001b[A\n",
      "training 1 epoch:  97%|██████████████████████████████████████████████████████████████  | 63/65 [00:09<00:00,  6.38it/s]\u001b[A\n",
      "training 1 epoch:  98%|███████████████████████████████████████████████████████████████ | 64/65 [00:09<00:00,  6.39it/s]\u001b[A\n",
      "training 1 epoch: 100%|████████████████████████████████████████████████████████████████| 65/65 [00:10<00:00,  6.47it/s]\u001b[A\n"
     ]
    },
    {
     "name": "stdout",
     "output_type": "stream",
     "text": [
      "Epoch train time: 10.047971725463867   Time per sample: 0.002427632695207506\n"
     ]
    },
    {
     "name": "stderr",
     "output_type": "stream",
     "text": [
      "\n",
      "Validating:   0%|                                                                                | 0/9 [00:00<?, ?it/s]\u001b[A\n",
      "Validating:  11%|████████                                                                | 1/9 [00:00<00:01,  8.00it/s]\u001b[A\n",
      "Validating:  22%|████████████████                                                        | 2/9 [00:00<00:00,  8.00it/s]\u001b[A\n",
      "Validating:  33%|████████████████████████                                                | 3/9 [00:00<00:00,  8.00it/s]\u001b[A\n",
      "Validating:  44%|████████████████████████████████                                        | 4/9 [00:00<00:00,  8.00it/s]\u001b[A\n",
      "Validating:  56%|████████████████████████████████████████                                | 5/9 [00:00<00:00,  8.00it/s]\u001b[A\n",
      "Validating:  67%|████████████████████████████████████████████████                        | 6/9 [00:00<00:00,  8.00it/s]\u001b[A\n",
      "Validating:  78%|████████████████████████████████████████████████████████                | 7/9 [00:00<00:00,  8.00it/s]\u001b[A\n",
      "Validating: 100%|████████████████████████████████████████████████████████████████████████| 9/9 [00:01<00:00,  8.73it/s]\u001b[A\n",
      "epochs:  10%|███████▌                                                                   | 1/10 [00:11<01:40, 11.13s/it]"
     ]
    },
    {
     "name": "stdout",
     "output_type": "stream",
     "text": [
      "Val confusion matrix:\n",
      "[[251   3]\n",
      " [ 49 214]]\n",
      "254 frames don't have pedestrian, 263 frames have pedestrian\n",
      "TP: 251, FP: 49, FN: 3\n",
      "Precision: 0.8366666666666667, Recall: 0.9881889763779528\n",
      "Epoch 0: Saving model to ./checkpoints/resnet18_HOG_fd_gpu with val accuracy 89.94197292069633%\n"
     ]
    },
    {
     "name": "stderr",
     "output_type": "stream",
     "text": [
      "\n",
      "training 1 epoch:   0%|                                                                         | 0/65 [00:00<?, ?it/s]\u001b[A\n",
      "training 1 epoch:   3%|██                                                               | 2/65 [00:00<00:04, 12.80it/s]\u001b[A\n",
      "training 1 epoch:   6%|████                                                             | 4/65 [00:00<00:04, 12.80it/s]\u001b[A\n",
      "training 1 epoch:   9%|██████                                                           | 6/65 [00:00<00:04, 14.07it/s]\u001b[A\n",
      "training 1 epoch:  12%|████████                                                         | 8/65 [00:00<00:03, 15.48it/s]\u001b[A\n",
      "training 1 epoch:  15%|█████████▊                                                      | 10/65 [00:00<00:03, 16.39it/s]\u001b[A\n",
      "training 1 epoch:  18%|███████████▊                                                    | 12/65 [00:00<00:03, 16.99it/s]\u001b[A\n",
      "training 1 epoch:  22%|█████████████▊                                                  | 14/65 [00:00<00:02, 17.38it/s]\u001b[A\n",
      "training 1 epoch:  25%|███████████████▊                                                | 16/65 [00:00<00:02, 17.66it/s]\u001b[A\n",
      "training 1 epoch:  28%|█████████████████▋                                              | 18/65 [00:01<00:02, 17.10it/s]\u001b[A\n",
      "training 1 epoch:  31%|███████████████████▋                                            | 20/65 [00:01<00:02, 17.45it/s]\u001b[A\n",
      "training 1 epoch:  34%|█████████████████████▋                                          | 22/65 [00:01<00:02, 17.70it/s]\u001b[A\n",
      "training 1 epoch:  38%|████████████████████████▌                                       | 25/65 [00:01<00:02, 18.25it/s]\u001b[A\n",
      "training 1 epoch:  42%|██████████████████████████▌                                     | 27/65 [00:01<00:02, 18.26it/s]\u001b[A\n",
      "training 1 epoch:  45%|████████████████████████████▌                                   | 29/65 [00:01<00:01, 18.27it/s]\u001b[A\n",
      "training 1 epoch:  48%|██████████████████████████████▌                                 | 31/65 [00:01<00:01, 18.25it/s]\u001b[A\n",
      "training 1 epoch:  51%|████████████████████████████████▍                               | 33/65 [00:01<00:01, 18.26it/s]\u001b[A\n",
      "training 1 epoch:  54%|██████████████████████████████████▍                             | 35/65 [00:02<00:01, 18.27it/s]\u001b[A\n",
      "training 1 epoch:  57%|████████████████████████████████████▍                           | 37/65 [00:02<00:01, 18.27it/s]\u001b[A\n",
      "training 1 epoch:  60%|██████████████████████████████████████▍                         | 39/65 [00:02<00:01, 18.28it/s]\u001b[A\n",
      "training 1 epoch:  63%|████████████████████████████████████████▎                       | 41/65 [00:02<00:01, 18.28it/s]\u001b[A\n",
      "training 1 epoch:  66%|██████████████████████████████████████████▎                     | 43/65 [00:02<00:01, 18.26it/s]\u001b[A\n",
      "training 1 epoch:  71%|█████████████████████████████████████████████▎                  | 46/65 [00:02<00:01, 18.62it/s]\u001b[A\n",
      "training 1 epoch:  74%|███████████████████████████████████████████████▎                | 48/65 [00:02<00:00, 18.53it/s]\u001b[A\n",
      "training 1 epoch:  77%|█████████████████████████████████████████████████▏              | 50/65 [00:02<00:00, 18.46it/s]\u001b[A\n",
      "training 1 epoch:  80%|███████████████████████████████████████████████████▏            | 52/65 [00:02<00:00, 18.41it/s]\u001b[A\n",
      "training 1 epoch:  83%|█████████████████████████████████████████████████████▏          | 54/65 [00:03<00:00, 18.37it/s]\u001b[A\n",
      "training 1 epoch:  86%|███████████████████████████████████████████████████████▏        | 56/65 [00:03<00:00, 18.33it/s]\u001b[A\n",
      "training 1 epoch:  89%|█████████████████████████████████████████████████████████       | 58/65 [00:03<00:00, 18.32it/s]\u001b[A\n",
      "training 1 epoch:  92%|███████████████████████████████████████████████████████████     | 60/65 [00:03<00:00, 18.31it/s]\u001b[A\n",
      "training 1 epoch:  95%|█████████████████████████████████████████████████████████████   | 62/65 [00:03<00:00, 18.29it/s]\u001b[A\n",
      "training 1 epoch: 100%|████████████████████████████████████████████████████████████████| 65/65 [00:03<00:00, 17.84it/s]\u001b[A\n"
     ]
    },
    {
     "name": "stdout",
     "output_type": "stream",
     "text": [
      "Epoch train time: 3.6428425312042236   Time per sample: 0.0008801262457608658\n"
     ]
    },
    {
     "name": "stderr",
     "output_type": "stream",
     "text": [
      "\n",
      "Validating:   0%|                                                                                | 0/9 [00:00<?, ?it/s]\u001b[A\n",
      "Validating:  33%|████████████████████████                                                | 3/9 [00:00<00:00, 23.99it/s]\u001b[A\n",
      "Validating: 100%|████████████████████████████████████████████████████████████████████████| 9/9 [00:00<00:00, 27.43it/s]\u001b[A\n",
      "epochs:  20%|███████████████                                                            | 2/10 [00:15<00:55,  6.96s/it]"
     ]
    },
    {
     "name": "stdout",
     "output_type": "stream",
     "text": [
      "Val confusion matrix:\n",
      "[[253   1]\n",
      " [ 24 239]]\n",
      "254 frames don't have pedestrian, 263 frames have pedestrian\n",
      "TP: 253, FP: 24, FN: 1\n",
      "Precision: 0.9133574007220217, Recall: 0.9960629921259843\n",
      "Epoch 1: Saving model to ./checkpoints/resnet18_HOG_fd_gpu with val accuracy 95.16441005802707%\n"
     ]
    },
    {
     "name": "stderr",
     "output_type": "stream",
     "text": [
      "\n",
      "training 1 epoch:   0%|                                                                         | 0/65 [00:00<?, ?it/s]\u001b[A\n",
      "training 1 epoch:   3%|██                                                               | 2/65 [00:00<00:03, 18.28it/s]\u001b[A\n",
      "training 1 epoch:   6%|████                                                             | 4/65 [00:00<00:03, 18.28it/s]\u001b[A\n",
      "training 1 epoch:   9%|██████                                                           | 6/65 [00:00<00:03, 18.28it/s]\u001b[A\n",
      "training 1 epoch:  12%|████████                                                         | 8/65 [00:00<00:03, 18.29it/s]\u001b[A\n",
      "training 1 epoch:  15%|█████████▊                                                      | 10/65 [00:00<00:03, 18.29it/s]\u001b[A\n",
      "training 1 epoch:  18%|███████████▊                                                    | 12/65 [00:00<00:02, 18.29it/s]\u001b[A\n",
      "training 1 epoch:  22%|█████████████▊                                                  | 14/65 [00:00<00:02, 18.29it/s]\u001b[A\n",
      "training 1 epoch:  25%|███████████████▊                                                | 16/65 [00:00<00:02, 18.29it/s]\u001b[A\n",
      "training 1 epoch:  28%|█████████████████▋                                              | 18/65 [00:00<00:02, 18.29it/s]\u001b[A\n",
      "training 1 epoch:  31%|███████████████████▋                                            | 20/65 [00:01<00:02, 18.28it/s]\u001b[A\n",
      "training 1 epoch:  34%|█████████████████████▋                                          | 22/65 [00:01<00:02, 18.29it/s]\u001b[A\n",
      "training 1 epoch:  37%|███████████████████████▋                                        | 24/65 [00:01<00:02, 18.27it/s]\u001b[A\n",
      "training 1 epoch:  40%|█████████████████████████▌                                      | 26/65 [00:01<00:02, 18.27it/s]\u001b[A\n",
      "training 1 epoch:  43%|███████████████████████████▌                                    | 28/65 [00:01<00:02, 18.28it/s]\u001b[A\n",
      "training 1 epoch:  46%|█████████████████████████████▌                                  | 30/65 [00:01<00:01, 18.28it/s]\u001b[A\n",
      "training 1 epoch:  49%|███████████████████████████████▌                                | 32/65 [00:01<00:01, 18.28it/s]\u001b[A\n",
      "training 1 epoch:  52%|█████████████████████████████████▍                              | 34/65 [00:01<00:01, 18.26it/s]\u001b[A\n",
      "training 1 epoch:  57%|████████████████████████████████████▍                           | 37/65 [00:02<00:01, 18.62it/s]\u001b[A\n",
      "training 1 epoch:  62%|███████████████████████████████████████▍                        | 40/65 [00:02<00:01, 18.82it/s]\u001b[A\n",
      "training 1 epoch:  66%|██████████████████████████████████████████▎                     | 43/65 [00:02<00:01, 18.95it/s]\u001b[A\n",
      "training 1 epoch:  69%|████████████████████████████████████████████▎                   | 45/65 [00:02<00:01, 18.78it/s]\u001b[A\n",
      "training 1 epoch:  72%|██████████████████████████████████████████████▎                 | 47/65 [00:02<00:00, 18.63it/s]\u001b[A\n",
      "training 1 epoch:  77%|█████████████████████████████████████████████████▏              | 50/65 [00:02<00:00, 18.81it/s]\u001b[A\n",
      "training 1 epoch:  80%|███████████████████████████████████████████████████▏            | 52/65 [00:02<00:00, 18.68it/s]\u001b[A\n",
      "training 1 epoch:  85%|██████████████████████████████████████████████████████▏         | 55/65 [00:02<00:00, 18.86it/s]\u001b[A\n",
      "training 1 epoch:  88%|████████████████████████████████████████████████████████        | 57/65 [00:03<00:00, 18.71it/s]\u001b[A\n",
      "training 1 epoch:  92%|███████████████████████████████████████████████████████████     | 60/65 [00:03<00:00, 18.87it/s]\u001b[A\n",
      "training 1 epoch:  95%|█████████████████████████████████████████████████████████████   | 62/65 [00:03<00:00, 18.72it/s]\u001b[A\n",
      "training 1 epoch: 100%|████████████████████████████████████████████████████████████████| 65/65 [00:03<00:00, 18.64it/s]\u001b[A\n"
     ]
    },
    {
     "name": "stdout",
     "output_type": "stream",
     "text": [
      "Epoch train time: 3.486281156539917   Time per sample: 0.0008423003519062375\n"
     ]
    },
    {
     "name": "stderr",
     "output_type": "stream",
     "text": [
      "\n",
      "Validating:   0%|                                                                                | 0/9 [00:00<?, ?it/s]\u001b[A\n",
      "Validating:  33%|████████████████████████                                                | 3/9 [00:00<00:00, 24.00it/s]\u001b[A\n",
      "Validating: 100%|████████████████████████████████████████████████████████████████████████| 9/9 [00:00<00:00, 27.40it/s]\u001b[A\n",
      "epochs:  30%|██████████████████████▌                                                    | 3/10 [00:19<00:38,  5.55s/it]"
     ]
    },
    {
     "name": "stdout",
     "output_type": "stream",
     "text": [
      "Val confusion matrix:\n",
      "[[251   3]\n",
      " [  2 261]]\n",
      "254 frames don't have pedestrian, 263 frames have pedestrian\n",
      "TP: 251, FP: 2, FN: 3\n",
      "Precision: 0.9920948616600791, Recall: 0.9881889763779528\n",
      "Epoch 2: Saving model to ./checkpoints/resnet18_HOG_fd_gpu with val accuracy 99.03288201160541%\n"
     ]
    },
    {
     "name": "stderr",
     "output_type": "stream",
     "text": [
      "\n",
      "training 1 epoch:   0%|                                                                         | 0/65 [00:00<?, ?it/s]\u001b[A\n",
      "training 1 epoch:   3%|██                                                               | 2/65 [00:00<00:03, 18.29it/s]\u001b[A\n",
      "training 1 epoch:   8%|█████                                                            | 5/65 [00:00<00:03, 18.90it/s]\u001b[A\n",
      "training 1 epoch:  12%|████████                                                         | 8/65 [00:00<00:02, 19.05it/s]\u001b[A\n",
      "training 1 epoch:  15%|█████████▊                                                      | 10/65 [00:00<00:02, 18.79it/s]\u001b[A\n",
      "training 1 epoch:  20%|████████████▊                                                   | 13/65 [00:00<00:02, 18.95it/s]\u001b[A\n",
      "training 1 epoch:  23%|██████████████▊                                                 | 15/65 [00:00<00:02, 18.76it/s]\u001b[A\n",
      "training 1 epoch:  28%|█████████████████▋                                              | 18/65 [00:00<00:02, 18.92it/s]\u001b[A\n",
      "training 1 epoch:  31%|███████████████████▋                                            | 20/65 [00:01<00:02, 18.73it/s]\u001b[A\n",
      "training 1 epoch:  34%|█████████████████████▋                                          | 22/65 [00:01<00:02, 18.61it/s]\u001b[A\n",
      "training 1 epoch:  37%|███████████████████████▋                                        | 24/65 [00:01<00:02, 18.52it/s]\u001b[A\n",
      "training 1 epoch:  40%|█████████████████████████▌                                      | 26/65 [00:01<00:02, 18.45it/s]\u001b[A\n",
      "training 1 epoch:  45%|████████████████████████████▌                                   | 29/65 [00:01<00:01, 18.73it/s]\u001b[A\n",
      "training 1 epoch:  49%|███████████████████████████████▌                                | 32/65 [00:01<00:01, 18.89it/s]\u001b[A\n",
      "training 1 epoch:  54%|██████████████████████████████████▍                             | 35/65 [00:01<00:01, 18.99it/s]\u001b[A\n",
      "training 1 epoch:  57%|████████████████████████████████████▍                           | 37/65 [00:01<00:01, 18.81it/s]\u001b[A\n",
      "training 1 epoch:  62%|███████████████████████████████████████▍                        | 40/65 [00:02<00:01, 18.94it/s]\u001b[A\n",
      "training 1 epoch:  65%|█████████████████████████████████████████▎                      | 42/65 [00:02<00:01, 18.78it/s]\u001b[A\n",
      "training 1 epoch:  69%|████████████████████████████████████████████▎                   | 45/65 [00:02<00:01, 18.92it/s]\u001b[A\n",
      "training 1 epoch:  74%|███████████████████████████████████████████████▎                | 48/65 [00:02<00:00, 19.00it/s]\u001b[A\n",
      "training 1 epoch:  78%|██████████████████████████████████████████████████▏             | 51/65 [00:02<00:00, 19.07it/s]\u001b[A\n",
      "training 1 epoch:  82%|████████████████████████████████████████████████████▏           | 53/65 [00:02<00:00, 18.88it/s]\u001b[A\n",
      "training 1 epoch:  85%|██████████████████████████████████████████████████████▏         | 55/65 [00:02<00:00, 18.72it/s]\u001b[A\n",
      "training 1 epoch:  88%|████████████████████████████████████████████████████████        | 57/65 [00:03<00:00, 18.61it/s]\u001b[A\n",
      "training 1 epoch:  92%|███████████████████████████████████████████████████████████     | 60/65 [00:03<00:00, 18.82it/s]\u001b[A\n",
      "training 1 epoch: 100%|████████████████████████████████████████████████████████████████| 65/65 [00:03<00:00, 18.90it/s]\u001b[A\n"
     ]
    },
    {
     "name": "stdout",
     "output_type": "stream",
     "text": [
      "Epoch train time: 3.4387502670288086   Time per sample: 0.0008308166868878494\n"
     ]
    },
    {
     "name": "stderr",
     "output_type": "stream",
     "text": [
      "\n",
      "Validating:   0%|                                                                                | 0/9 [00:00<?, ?it/s]\u001b[A\n",
      "Validating:  33%|████████████████████████                                                | 3/9 [00:00<00:00, 24.00it/s]\u001b[A\n",
      "Validating: 100%|████████████████████████████████████████████████████████████████████████| 9/9 [00:00<00:00, 27.43it/s]\u001b[A\n",
      "epochs:  40%|██████████████████████████████                                             | 4/10 [00:22<00:29,  4.85s/it]"
     ]
    },
    {
     "name": "stdout",
     "output_type": "stream",
     "text": [
      "Val confusion matrix:\n",
      "[[249   5]\n",
      " [  3 260]]\n",
      "254 frames don't have pedestrian, 263 frames have pedestrian\n",
      "TP: 249, FP: 3, FN: 5\n",
      "Precision: 0.9880952380952381, Recall: 0.9803149606299213\n"
     ]
    },
    {
     "name": "stderr",
     "output_type": "stream",
     "text": [
      "\n",
      "training 1 epoch:   0%|                                                                         | 0/65 [00:00<?, ?it/s]\u001b[A\n",
      "training 1 epoch:   3%|██                                                               | 2/65 [00:00<00:03, 18.29it/s]\u001b[A\n",
      "training 1 epoch:   6%|████                                                             | 4/65 [00:00<00:03, 18.29it/s]\u001b[A\n",
      "training 1 epoch:   9%|██████                                                           | 6/65 [00:00<00:03, 18.28it/s]\u001b[A\n",
      "training 1 epoch:  12%|████████                                                         | 8/65 [00:00<00:03, 18.29it/s]\u001b[A\n",
      "training 1 epoch:  17%|██████████▊                                                     | 11/65 [00:00<00:02, 18.69it/s]\u001b[A\n",
      "training 1 epoch:  20%|████████████▊                                                   | 13/65 [00:00<00:02, 18.55it/s]\u001b[A\n",
      "training 1 epoch:  25%|███████████████▊                                                | 16/65 [00:00<00:02, 18.80it/s]\u001b[A\n",
      "training 1 epoch:  29%|██████████████████▋                                             | 19/65 [00:01<00:02, 18.93it/s]\u001b[A\n",
      "training 1 epoch:  32%|████████████████████▋                                           | 21/65 [00:01<00:02, 18.76it/s]\u001b[A\n",
      "training 1 epoch:  37%|███████████████████████▋                                        | 24/65 [00:01<00:02, 18.91it/s]\u001b[A\n",
      "training 1 epoch:  42%|██████████████████████████▌                                     | 27/65 [00:01<00:01, 19.01it/s]\u001b[A\n",
      "training 1 epoch:  46%|█████████████████████████████▌                                  | 30/65 [00:01<00:01, 19.07it/s]\u001b[A\n",
      "training 1 epoch:  49%|███████████████████████████████▌                                | 32/65 [00:01<00:01, 18.88it/s]\u001b[A\n",
      "training 1 epoch:  54%|██████████████████████████████████▍                             | 35/65 [00:01<00:01, 18.99it/s]\u001b[A\n",
      "training 1 epoch:  58%|█████████████████████████████████████▍                          | 38/65 [00:02<00:01, 19.04it/s]\u001b[A\n",
      "training 1 epoch:  63%|████████████████████████████████████████▎                       | 41/65 [00:02<00:01, 19.09it/s]\u001b[A\n",
      "training 1 epoch:  66%|██████████████████████████████████████████▎                     | 43/65 [00:02<00:01, 18.90it/s]\u001b[A\n",
      "training 1 epoch:  71%|█████████████████████████████████████████████▎                  | 46/65 [00:02<00:01, 18.99it/s]\u001b[A\n",
      "training 1 epoch:  75%|████████████████████████████████████████████████▏               | 49/65 [00:02<00:00, 19.05it/s]\u001b[A\n",
      "training 1 epoch:  78%|██████████████████████████████████████████████████▏             | 51/65 [00:02<00:00, 18.86it/s]\u001b[A\n",
      "training 1 epoch:  83%|█████████████████████████████████████████████████████▏          | 54/65 [00:02<00:00, 18.97it/s]\u001b[A\n",
      "training 1 epoch:  88%|████████████████████████████████████████████████████████        | 57/65 [00:03<00:00, 19.05it/s]\u001b[A\n",
      "training 1 epoch:  91%|██████████████████████████████████████████████████████████      | 59/65 [00:03<00:00, 18.86it/s]\u001b[A\n",
      "training 1 epoch:  95%|█████████████████████████████████████████████████████████████   | 62/65 [00:03<00:00, 18.97it/s]\u001b[A\n",
      "training 1 epoch: 100%|████████████████████████████████████████████████████████████████| 65/65 [00:03<00:00, 18.98it/s]\u001b[A\n"
     ]
    },
    {
     "name": "stdout",
     "output_type": "stream",
     "text": [
      "Epoch train time: 3.424670457839966   Time per sample: 0.0008274149451171698\n"
     ]
    },
    {
     "name": "stderr",
     "output_type": "stream",
     "text": [
      "\n",
      "Validating:   0%|                                                                                | 0/9 [00:00<?, ?it/s]\u001b[A\n",
      "Validating:  33%|████████████████████████                                                | 3/9 [00:00<00:00, 24.22it/s]\u001b[A\n",
      "Validating: 100%|████████████████████████████████████████████████████████████████████████| 9/9 [00:00<00:00, 27.49it/s]\u001b[A\n",
      "epochs:  50%|█████████████████████████████████████▌                                     | 5/10 [00:26<00:22,  4.48s/it]"
     ]
    },
    {
     "name": "stdout",
     "output_type": "stream",
     "text": [
      "Val confusion matrix:\n",
      "[[252   2]\n",
      " [  2 261]]\n",
      "254 frames don't have pedestrian, 263 frames have pedestrian\n",
      "TP: 252, FP: 2, FN: 2\n",
      "Precision: 0.9921259842519685, Recall: 0.9921259842519685\n",
      "Epoch 4: Saving model to ./checkpoints/resnet18_HOG_fd_gpu with val accuracy 99.22630560928434%\n"
     ]
    },
    {
     "name": "stderr",
     "output_type": "stream",
     "text": [
      "\n",
      "training 1 epoch:   0%|                                                                         | 0/65 [00:00<?, ?it/s]\u001b[A\n",
      "training 1 epoch:   3%|██                                                               | 2/65 [00:00<00:03, 18.29it/s]\u001b[A\n",
      "training 1 epoch:   6%|████                                                             | 4/65 [00:00<00:03, 18.29it/s]\u001b[A\n",
      "training 1 epoch:   9%|██████                                                           | 6/65 [00:00<00:03, 18.26it/s]\u001b[A\n",
      "training 1 epoch:  14%|█████████                                                        | 9/65 [00:00<00:02, 18.71it/s]\u001b[A\n",
      "training 1 epoch:  18%|███████████▊                                                    | 12/65 [00:00<00:02, 18.91it/s]\u001b[A\n",
      "training 1 epoch:  22%|█████████████▊                                                  | 14/65 [00:00<00:02, 18.73it/s]\u001b[A\n",
      "training 1 epoch:  26%|████████████████▋                                               | 17/65 [00:00<00:02, 18.90it/s]\u001b[A\n",
      "training 1 epoch:  29%|██████████████████▋                                             | 19/65 [00:01<00:02, 18.73it/s]\u001b[A\n",
      "training 1 epoch:  32%|████████████████████▋                                           | 21/65 [00:01<00:02, 18.61it/s]\u001b[A\n",
      "training 1 epoch:  37%|███████████████████████▋                                        | 24/65 [00:01<00:02, 18.81it/s]\u001b[A\n",
      "training 1 epoch:  40%|█████████████████████████▌                                      | 26/65 [00:01<00:02, 18.67it/s]\u001b[A\n",
      "training 1 epoch:  45%|████████████████████████████▌                                   | 29/65 [00:01<00:01, 18.86it/s]\u001b[A\n",
      "training 1 epoch:  49%|███████████████████████████████▌                                | 32/65 [00:01<00:01, 18.97it/s]\u001b[A\n",
      "training 1 epoch:  54%|██████████████████████████████████▍                             | 35/65 [00:01<00:01, 19.03it/s]\u001b[A\n",
      "training 1 epoch:  58%|█████████████████████████████████████▍                          | 38/65 [00:02<00:01, 19.08it/s]\u001b[A\n",
      "training 1 epoch:  62%|███████████████████████████████████████▍                        | 40/65 [00:02<00:01, 18.89it/s]\u001b[A\n",
      "training 1 epoch:  66%|██████████████████████████████████████████▎                     | 43/65 [00:02<00:01, 18.99it/s]\u001b[A\n",
      "training 1 epoch:  71%|█████████████████████████████████████████████▎                  | 46/65 [00:02<00:00, 19.06it/s]\u001b[A\n",
      "training 1 epoch:  74%|███████████████████████████████████████████████▎                | 48/65 [00:02<00:00, 18.87it/s]\u001b[A\n",
      "training 1 epoch:  78%|██████████████████████████████████████████████████▏             | 51/65 [00:02<00:00, 18.97it/s]\u001b[A\n",
      "training 1 epoch:  83%|█████████████████████████████████████████████████████▏          | 54/65 [00:02<00:00, 19.04it/s]\u001b[A\n",
      "training 1 epoch:  88%|████████████████████████████████████████████████████████        | 57/65 [00:03<00:00, 19.09it/s]\u001b[A\n",
      "training 1 epoch:  91%|██████████████████████████████████████████████████████████      | 59/65 [00:03<00:00, 18.90it/s]\u001b[A\n",
      "training 1 epoch:  94%|████████████████████████████████████████████████████████████    | 61/65 [00:03<00:00, 18.74it/s]\u001b[A\n",
      "training 1 epoch: 100%|████████████████████████████████████████████████████████████████| 65/65 [00:03<00:00, 18.99it/s]\u001b[A\n"
     ]
    },
    {
     "name": "stdout",
     "output_type": "stream",
     "text": [
      "Epoch train time: 3.423347234725952   Time per sample: 0.0008270952487861687\n"
     ]
    },
    {
     "name": "stderr",
     "output_type": "stream",
     "text": [
      "\n",
      "Validating:   0%|                                                                                | 0/9 [00:00<?, ?it/s]\u001b[A\n",
      "Validating:  33%|████████████████████████                                                | 3/9 [00:00<00:00, 27.43it/s]\u001b[A\n",
      "Validating: 100%|████████████████████████████████████████████████████████████████████████| 9/9 [00:00<00:00, 27.43it/s]\u001b[A\n",
      "epochs:  60%|█████████████████████████████████████████████                              | 6/10 [00:30<00:17,  4.26s/it]"
     ]
    },
    {
     "name": "stdout",
     "output_type": "stream",
     "text": [
      "Val confusion matrix:\n",
      "[[253   1]\n",
      " [  2 261]]\n",
      "254 frames don't have pedestrian, 263 frames have pedestrian\n",
      "TP: 253, FP: 2, FN: 1\n",
      "Precision: 0.9921568627450981, Recall: 0.9960629921259843\n",
      "Epoch 5: Saving model to ./checkpoints/resnet18_HOG_fd_gpu with val accuracy 99.41972920696325%\n"
     ]
    },
    {
     "name": "stderr",
     "output_type": "stream",
     "text": [
      "\n",
      "training 1 epoch:   0%|                                                                         | 0/65 [00:00<?, ?it/s]\u001b[A\n",
      "training 1 epoch:   3%|██                                                               | 2/65 [00:00<00:03, 18.29it/s]\u001b[A\n",
      "training 1 epoch:   8%|█████                                                            | 5/65 [00:00<00:03, 18.90it/s]\u001b[A\n",
      "training 1 epoch:  12%|████████                                                         | 8/65 [00:00<00:02, 19.05it/s]\u001b[A\n",
      "training 1 epoch:  15%|█████████▊                                                      | 10/65 [00:00<00:02, 18.80it/s]\u001b[A\n",
      "training 1 epoch:  18%|███████████▊                                                    | 12/65 [00:00<00:02, 18.63it/s]\u001b[A\n",
      "training 1 epoch:  23%|██████████████▊                                                 | 15/65 [00:00<00:02, 18.86it/s]\u001b[A\n",
      "training 1 epoch:  26%|████████████████▋                                               | 17/65 [00:00<00:02, 18.69it/s]\u001b[A\n",
      "training 1 epoch:  29%|██████████████████▋                                             | 19/65 [00:01<00:02, 18.58it/s]\u001b[A\n",
      "training 1 epoch:  34%|█████████████████████▋                                          | 22/65 [00:01<00:02, 18.81it/s]\u001b[A\n",
      "training 1 epoch:  38%|████████████████████████▌                                       | 25/65 [00:01<00:02, 18.93it/s]\u001b[A\n",
      "training 1 epoch:  42%|██████████████████████████▌                                     | 27/65 [00:01<00:02, 18.10it/s]\u001b[A\n",
      "training 1 epoch:  45%|████████████████████████████▌                                   | 29/65 [00:01<00:01, 18.15it/s]\u001b[A\n",
      "training 1 epoch:  48%|██████████████████████████████▌                                 | 31/65 [00:01<00:01, 18.19it/s]\u001b[A\n",
      "training 1 epoch:  52%|█████████████████████████████████▍                              | 34/65 [00:01<00:01, 18.55it/s]\u001b[A\n",
      "training 1 epoch:  55%|███████████████████████████████████▍                            | 36/65 [00:01<00:01, 18.48it/s]\u001b[A\n",
      "training 1 epoch:  60%|██████████████████████████████████████▍                         | 39/65 [00:02<00:01, 18.73it/s]\u001b[A\n",
      "training 1 epoch:  65%|█████████████████████████████████████████▎                      | 42/65 [00:02<00:01, 18.88it/s]\u001b[A\n",
      "training 1 epoch:  69%|████████████████████████████████████████████▎                   | 45/65 [00:02<00:01, 18.98it/s]\u001b[A\n",
      "training 1 epoch:  74%|███████████████████████████████████████████████▎                | 48/65 [00:02<00:00, 19.05it/s]\u001b[A\n",
      "training 1 epoch:  77%|█████████████████████████████████████████████████▏              | 50/65 [00:02<00:00, 18.85it/s]\u001b[A\n",
      "training 1 epoch:  82%|████████████████████████████████████████████████████▏           | 53/65 [00:02<00:00, 18.97it/s]\u001b[A\n",
      "training 1 epoch:  85%|██████████████████████████████████████████████████████▏         | 55/65 [00:02<00:00, 18.80it/s]\u001b[A\n",
      "training 1 epoch:  89%|█████████████████████████████████████████████████████████       | 58/65 [00:03<00:00, 18.93it/s]\u001b[A\n",
      "training 1 epoch:  94%|████████████████████████████████████████████████████████████    | 61/65 [00:03<00:00, 19.00it/s]\u001b[A\n",
      "training 1 epoch: 100%|████████████████████████████████████████████████████████████████| 65/65 [00:03<00:00, 18.82it/s]\u001b[A\n"
     ]
    },
    {
     "name": "stdout",
     "output_type": "stream",
     "text": [
      "Epoch train time: 3.454611301422119   Time per sample: 0.0008346487802421163\n"
     ]
    },
    {
     "name": "stderr",
     "output_type": "stream",
     "text": [
      "\n",
      "Validating:   0%|                                                                                | 0/9 [00:00<?, ?it/s]\u001b[A\n",
      "Validating:  33%|████████████████████████                                                | 3/9 [00:00<00:00, 27.38it/s]\u001b[A\n",
      "Validating: 100%|████████████████████████████████████████████████████████████████████████| 9/9 [00:00<00:00, 27.41it/s]\u001b[A\n",
      "epochs:  70%|████████████████████████████████████████████████████▌                      | 7/10 [00:34<00:12,  4.10s/it]"
     ]
    },
    {
     "name": "stdout",
     "output_type": "stream",
     "text": [
      "Val confusion matrix:\n",
      "[[250   4]\n",
      " [  2 261]]\n",
      "254 frames don't have pedestrian, 263 frames have pedestrian\n",
      "TP: 250, FP: 2, FN: 4\n",
      "Precision: 0.9920634920634921, Recall: 0.984251968503937\n"
     ]
    },
    {
     "name": "stderr",
     "output_type": "stream",
     "text": [
      "\n",
      "training 1 epoch:   0%|                                                                         | 0/65 [00:00<?, ?it/s]\u001b[A\n",
      "training 1 epoch:   3%|██                                                               | 2/65 [00:00<00:03, 18.29it/s]\u001b[A\n",
      "training 1 epoch:   8%|█████                                                            | 5/65 [00:00<00:03, 18.88it/s]\u001b[A\n",
      "training 1 epoch:  12%|████████                                                         | 8/65 [00:00<00:02, 19.03it/s]\u001b[A\n",
      "training 1 epoch:  15%|█████████▊                                                      | 10/65 [00:00<00:02, 18.79it/s]\u001b[A\n",
      "training 1 epoch:  18%|███████████▊                                                    | 12/65 [00:00<00:02, 18.63it/s]\u001b[A\n",
      "training 1 epoch:  23%|██████████████▊                                                 | 15/65 [00:00<00:02, 18.85it/s]\u001b[A\n",
      "training 1 epoch:  28%|█████████████████▋                                              | 18/65 [00:00<00:02, 18.98it/s]\u001b[A\n",
      "training 1 epoch:  32%|████████████████████▋                                           | 21/65 [00:01<00:02, 19.05it/s]\u001b[A\n",
      "training 1 epoch:  35%|██████████████████████▋                                         | 23/65 [00:01<00:02, 18.86it/s]\u001b[A\n",
      "training 1 epoch:  40%|█████████████████████████▌                                      | 26/65 [00:01<00:02, 18.96it/s]\u001b[A\n",
      "training 1 epoch:  45%|████████████████████████████▌                                   | 29/65 [00:01<00:01, 19.04it/s]\u001b[A\n",
      "training 1 epoch:  49%|███████████████████████████████▌                                | 32/65 [00:01<00:01, 19.09it/s]\u001b[A\n",
      "training 1 epoch:  52%|█████████████████████████████████▍                              | 34/65 [00:01<00:01, 18.90it/s]\u001b[A\n",
      "training 1 epoch:  57%|████████████████████████████████████▍                           | 37/65 [00:01<00:01, 19.00it/s]\u001b[A\n",
      "training 1 epoch:  60%|██████████████████████████████████████▍                         | 39/65 [00:02<00:01, 18.82it/s]\u001b[A\n",
      "training 1 epoch:  65%|█████████████████████████████████████████▎                      | 42/65 [00:02<00:01, 18.95it/s]\u001b[A\n",
      "training 1 epoch:  68%|███████████████████████████████████████████▎                    | 44/65 [00:02<00:01, 18.78it/s]\u001b[A\n",
      "training 1 epoch:  72%|██████████████████████████████████████████████▎                 | 47/65 [00:02<00:00, 18.92it/s]\u001b[A\n",
      "training 1 epoch:  77%|█████████████████████████████████████████████████▏              | 50/65 [00:02<00:00, 19.01it/s]\u001b[A\n",
      "training 1 epoch:  80%|███████████████████████████████████████████████████▏            | 52/65 [00:02<00:00, 18.83it/s]\u001b[A\n",
      "training 1 epoch:  85%|██████████████████████████████████████████████████████▏         | 55/65 [00:02<00:00, 18.96it/s]\u001b[A\n",
      "training 1 epoch:  89%|█████████████████████████████████████████████████████████       | 58/65 [00:03<00:00, 19.03it/s]\u001b[A\n",
      "training 1 epoch:  92%|███████████████████████████████████████████████████████████     | 60/65 [00:03<00:00, 18.84it/s]\u001b[A\n",
      "training 1 epoch:  95%|█████████████████████████████████████████████████████████████   | 62/65 [00:03<00:00, 18.70it/s]\u001b[A\n",
      "training 1 epoch: 100%|████████████████████████████████████████████████████████████████| 65/65 [00:03<00:00, 18.99it/s]\u001b[A\n"
     ]
    },
    {
     "name": "stdout",
     "output_type": "stream",
     "text": [
      "Epoch train time: 3.4227170944213867   Time per sample: 0.0008269430042090811\n"
     ]
    },
    {
     "name": "stderr",
     "output_type": "stream",
     "text": [
      "\n",
      "Validating:   0%|                                                                                | 0/9 [00:00<?, ?it/s]\u001b[A\n",
      "Validating:  33%|████████████████████████                                                | 3/9 [00:00<00:00, 24.00it/s]\u001b[A\n",
      "Validating: 100%|████████████████████████████████████████████████████████████████████████| 9/9 [00:00<00:00, 27.43it/s]\u001b[A\n",
      "epochs:  80%|████████████████████████████████████████████████████████████               | 8/10 [00:37<00:07,  3.99s/it]"
     ]
    },
    {
     "name": "stdout",
     "output_type": "stream",
     "text": [
      "Val confusion matrix:\n",
      "[[253   1]\n",
      " [  2 261]]\n",
      "254 frames don't have pedestrian, 263 frames have pedestrian\n",
      "TP: 253, FP: 2, FN: 1\n",
      "Precision: 0.9921568627450981, Recall: 0.9960629921259843\n"
     ]
    },
    {
     "name": "stderr",
     "output_type": "stream",
     "text": [
      "\n",
      "training 1 epoch:   0%|                                                                         | 0/65 [00:00<?, ?it/s]\u001b[A\n",
      "training 1 epoch:   5%|███                                                              | 3/65 [00:00<00:03, 19.20it/s]\u001b[A\n",
      "training 1 epoch:   9%|██████                                                           | 6/65 [00:00<00:03, 19.20it/s]\u001b[A\n",
      "training 1 epoch:  14%|█████████                                                        | 9/65 [00:00<00:02, 19.19it/s]\u001b[A\n",
      "training 1 epoch:  18%|███████████▊                                                    | 12/65 [00:00<00:02, 19.19it/s]\u001b[A\n",
      "training 1 epoch:  22%|█████████████▊                                                  | 14/65 [00:00<00:02, 18.94it/s]\u001b[A\n",
      "training 1 epoch:  25%|███████████████▊                                                | 16/65 [00:00<00:02, 18.75it/s]\u001b[A\n",
      "training 1 epoch:  28%|█████████████████▋                                              | 18/65 [00:00<00:02, 18.61it/s]\u001b[A\n",
      "training 1 epoch:  32%|████████████████████▋                                           | 21/65 [00:01<00:02, 18.82it/s]\u001b[A\n",
      "training 1 epoch:  37%|███████████████████████▋                                        | 24/65 [00:01<00:02, 18.95it/s]\u001b[A\n",
      "training 1 epoch:  42%|██████████████████████████▌                                     | 27/65 [00:01<00:01, 19.03it/s]\u001b[A\n",
      "training 1 epoch:  45%|████████████████████████████▌                                   | 29/65 [00:01<00:01, 18.85it/s]\u001b[A\n",
      "training 1 epoch:  49%|███████████████████████████████▌                                | 32/65 [00:01<00:01, 18.97it/s]\u001b[A\n",
      "training 1 epoch:  52%|█████████████████████████████████▍                              | 34/65 [00:01<00:01, 18.80it/s]\u001b[A\n",
      "training 1 epoch:  57%|████████████████████████████████████▍                           | 37/65 [00:01<00:01, 18.92it/s]\u001b[A\n",
      "training 1 epoch:  60%|██████████████████████████████████████▍                         | 39/65 [00:02<00:01, 18.76it/s]\u001b[A\n",
      "training 1 epoch:  65%|█████████████████████████████████████████▎                      | 42/65 [00:02<00:01, 18.91it/s]\u001b[A\n",
      "training 1 epoch:  68%|███████████████████████████████████████████▎                    | 44/65 [00:02<00:01, 18.75it/s]\u001b[A\n",
      "training 1 epoch:  72%|██████████████████████████████████████████████▎                 | 47/65 [00:02<00:00, 18.90it/s]\u001b[A\n",
      "training 1 epoch:  75%|████████████████████████████████████████████████▏               | 49/65 [00:02<00:00, 18.75it/s]\u001b[A\n",
      "training 1 epoch:  80%|███████████████████████████████████████████████████▏            | 52/65 [00:02<00:00, 18.90it/s]\u001b[A\n",
      "training 1 epoch:  85%|██████████████████████████████████████████████████████▏         | 55/65 [00:02<00:00, 19.00it/s]\u001b[A\n",
      "training 1 epoch:  88%|████████████████████████████████████████████████████████        | 57/65 [00:03<00:00, 18.82it/s]\u001b[A\n",
      "training 1 epoch:  92%|███████████████████████████████████████████████████████████     | 60/65 [00:03<00:00, 18.95it/s]\u001b[A\n",
      "training 1 epoch:  95%|█████████████████████████████████████████████████████████████   | 62/65 [00:03<00:00, 18.78it/s]\u001b[A\n",
      "training 1 epoch: 100%|████████████████████████████████████████████████████████████████| 65/65 [00:03<00:00, 18.99it/s]\u001b[A\n"
     ]
    },
    {
     "name": "stdout",
     "output_type": "stream",
     "text": [
      "Epoch train time: 3.4382405281066895   Time per sample: 0.0008306935317967357\n"
     ]
    },
    {
     "name": "stderr",
     "output_type": "stream",
     "text": [
      "\n",
      "Validating:   0%|                                                                                | 0/9 [00:00<?, ?it/s]\u001b[A\n",
      "Validating:  33%|████████████████████████                                                | 3/9 [00:00<00:00, 23.96it/s]\u001b[A\n",
      "Validating: 100%|████████████████████████████████████████████████████████████████████████| 9/9 [00:00<00:00, 26.17it/s]\u001b[A\n",
      "epochs:  90%|███████████████████████████████████████████████████████████████████▌       | 9/10 [00:41<00:03,  3.92s/it]"
     ]
    },
    {
     "name": "stdout",
     "output_type": "stream",
     "text": [
      "Val confusion matrix:\n",
      "[[250   4]\n",
      " [  2 261]]\n",
      "254 frames don't have pedestrian, 263 frames have pedestrian\n",
      "TP: 250, FP: 2, FN: 4\n",
      "Precision: 0.9920634920634921, Recall: 0.984251968503937\n"
     ]
    },
    {
     "name": "stderr",
     "output_type": "stream",
     "text": [
      "\n",
      "training 1 epoch:   0%|                                                                         | 0/65 [00:00<?, ?it/s]\u001b[A\n",
      "training 1 epoch:   3%|██                                                               | 2/65 [00:00<00:03, 18.29it/s]\u001b[A\n",
      "training 1 epoch:   8%|█████                                                            | 5/65 [00:00<00:03, 18.90it/s]\u001b[A\n",
      "training 1 epoch:  11%|███████                                                          | 7/65 [00:00<00:03, 18.65it/s]\u001b[A\n",
      "training 1 epoch:  15%|█████████▊                                                      | 10/65 [00:00<00:02, 18.90it/s]\u001b[A\n",
      "training 1 epoch:  18%|███████████▊                                                    | 12/65 [00:00<00:02, 18.70it/s]\u001b[A\n",
      "training 1 epoch:  22%|█████████████▊                                                  | 14/65 [00:00<00:02, 18.57it/s]\u001b[A\n",
      "training 1 epoch:  26%|████████████████▋                                               | 17/65 [00:00<00:02, 18.81it/s]\u001b[A\n",
      "training 1 epoch:  31%|███████████████████▋                                            | 20/65 [00:01<00:02, 18.95it/s]\u001b[A\n",
      "training 1 epoch:  34%|█████████████████████▋                                          | 22/65 [00:01<00:02, 18.76it/s]\u001b[A\n",
      "training 1 epoch:  38%|████████████████████████▌                                       | 25/65 [00:01<00:02, 18.91it/s]\u001b[A\n",
      "training 1 epoch:  43%|███████████████████████████▌                                    | 28/65 [00:01<00:01, 19.01it/s]\u001b[A\n",
      "training 1 epoch:  46%|█████████████████████████████▌                                  | 30/65 [00:01<00:01, 18.83it/s]\u001b[A\n",
      "training 1 epoch:  51%|████████████████████████████████▍                               | 33/65 [00:01<00:01, 18.95it/s]\u001b[A\n",
      "training 1 epoch:  55%|███████████████████████████████████▍                            | 36/65 [00:01<00:01, 19.03it/s]\u001b[A\n",
      "training 1 epoch:  60%|██████████████████████████████████████▍                         | 39/65 [00:02<00:01, 19.09it/s]\u001b[A\n",
      "training 1 epoch:  63%|████████████████████████████████████████▎                       | 41/65 [00:02<00:01, 18.89it/s]\u001b[A\n",
      "training 1 epoch:  66%|██████████████████████████████████████████▎                     | 43/65 [00:02<00:01, 18.72it/s]\u001b[A\n",
      "training 1 epoch:  71%|█████████████████████████████████████████████▎                  | 46/65 [00:02<00:01, 18.88it/s]\u001b[A\n",
      "training 1 epoch:  74%|███████████████████████████████████████████████▎                | 48/65 [00:02<00:00, 18.72it/s]\u001b[A\n",
      "training 1 epoch:  78%|██████████████████████████████████████████████████▏             | 51/65 [00:02<00:00, 18.88it/s]\u001b[A\n",
      "training 1 epoch:  83%|█████████████████████████████████████████████████████▏          | 54/65 [00:02<00:00, 18.99it/s]\u001b[A\n",
      "training 1 epoch:  88%|████████████████████████████████████████████████████████        | 57/65 [00:03<00:00, 19.05it/s]\u001b[A\n",
      "training 1 epoch:  92%|███████████████████████████████████████████████████████████     | 60/65 [00:03<00:00, 19.10it/s]\u001b[A\n",
      "training 1 epoch:  95%|█████████████████████████████████████████████████████████████   | 62/65 [00:03<00:00, 18.91it/s]\u001b[A\n",
      "training 1 epoch: 100%|████████████████████████████████████████████████████████████████| 65/65 [00:03<00:00, 18.99it/s]\u001b[A\n"
     ]
    },
    {
     "name": "stdout",
     "output_type": "stream",
     "text": [
      "Epoch train time: 3.4232094287872314   Time per sample: 0.0008270619542853905\n"
     ]
    },
    {
     "name": "stderr",
     "output_type": "stream",
     "text": [
      "\n",
      "Validating:   0%|                                                                                | 0/9 [00:00<?, ?it/s]\u001b[A\n",
      "Validating:  33%|████████████████████████                                                | 3/9 [00:00<00:00, 24.00it/s]\u001b[A\n",
      "Validating: 100%|████████████████████████████████████████████████████████████████████████| 9/9 [00:00<00:00, 27.41it/s]\u001b[A\n",
      "epochs: 100%|██████████████████████████████████████████████████████████████████████████| 10/10 [00:45<00:00,  4.55s/it]"
     ]
    },
    {
     "name": "stdout",
     "output_type": "stream",
     "text": [
      "Val confusion matrix:\n",
      "[[250   4]\n",
      " [  2 261]]\n",
      "254 frames don't have pedestrian, 263 frames have pedestrian\n",
      "TP: 250, FP: 2, FN: 4\n",
      "Precision: 0.9920634920634921, Recall: 0.984251968503937\n"
     ]
    },
    {
     "name": "stderr",
     "output_type": "stream",
     "text": [
      "\n"
     ]
    }
   ],
   "source": [
    "save_path = \"./checkpoints/resnet18_HOG_fd_gpu\"\n",
    "\n",
    "model = torchvision.models.resnet18(weights = None)\n",
    "model.conv1 = torch.nn.Conv2d(2*2*9, 64, kernel_size=(7, 7), stride=(2, 2), padding=(3, 3), bias=False)\n",
    "model.fc = torch.nn.Linear(in_features=512, out_features=2, bias=True)\n",
    "model = torch.nn.DataParallel(model)\n",
    "\n",
    "try:\n",
    "    model.load_state_dict(torch.load(save_path))\n",
    "    print(\"Successfully Loaded Saved Model\")\n",
    "except Exception as error:\n",
    "    print(\"Failed to load Saved Model\")\n",
    "    print(error)\n",
    "model.to(device)\n",
    "\n",
    "train_errors, val_errors = train(model, train_dataloader, val_dataloader, save_path)"
   ]
  },
  {
   "cell_type": "code",
   "execution_count": 19,
   "metadata": {},
   "outputs": [],
   "source": [
    "def test(model, test_dataloader, save_path, test_type):\n",
    "    starttime = time()\n",
    "    correct = 0\n",
    "    total = 0\n",
    "    model.eval()\n",
    "    all_predicted = torch.tensor([]).to(device)\n",
    "    all_labels = torch.tensor([]).to(device)\n",
    "    all_pred_probs = torch.tensor([]).to(device)\n",
    "    # since we're not training, we don't need to calculate the gradients for our outputs\n",
    "    with torch.no_grad():\n",
    "        for images, labels in tqdm(test_dataloader, desc=\"testing\"):\n",
    "            images = images.to(device)\n",
    "            labels = labels.to(device)\n",
    "\n",
    "            # calculate outputs by running images through the network\n",
    "            outputs = model(images)\n",
    "\n",
    "            # the class with the highest energy is what we choose as prediction\n",
    "            _, predicted = torch.max(outputs.data, 1)\n",
    "            total += labels.size(0)\n",
    "            correct += (predicted == labels).sum().item()\n",
    "            all_predicted = torch.cat((all_predicted, predicted))\n",
    "            all_labels = torch.cat((all_labels, labels))\n",
    "            all_pred_probs = torch.cat((all_pred_probs, outputs.data))\n",
    "            # break # TODO: remove this\n",
    "    \n",
    "    testtime = time() - starttime\n",
    "    print(f\"Total test time: {testtime}   Time per sample: {testtime / len(test_dataloader.dataset)}\")\n",
    "    # Let's say y_true is your true binary labels and y_pred_probs is the predicted probabilities for the positive class\n",
    "    # You should replace them with your actual variables\n",
    "\n",
    "    # Compute ROC curve and ROC area for each class\n",
    "    fpr, tpr, _ = roc_curve(all_labels.cpu(), all_pred_probs[:,1].cpu(), pos_label=1)\n",
    "    roc_auc = auc(fpr, tpr)\n",
    "    print(\"ROC curve area:\", roc_auc)\n",
    "\n",
    "    # Plotting the ROC curve\n",
    "    plt.figure()\n",
    "    lw = 2\n",
    "    plt.plot(fpr, tpr, color='darkorange', lw=lw, label='ROC curve (area = %0.2f)' % roc_auc)\n",
    "    plt.plot([0, 1], [0, 1], color='navy', lw=lw, linestyle='--')\n",
    "    plt.xlim([0.0, 1.0])\n",
    "    plt.ylim([0.0, 1.05])\n",
    "    plt.xlabel('False Positive Rate')\n",
    "    plt.ylabel('True Positive Rate')\n",
    "    plt.legend(loc=\"lower right\")\n",
    "\n",
    "    conf_matrix = confusion_matrix(all_labels.cpu(), all_predicted.cpu())\n",
    "    print(conf_matrix)\n",
    "    print(f\"{conf_matrix[0].sum().item()} frames don't have pedestrian, {conf_matrix[1].sum().item()} frames have pedestrian\")\n",
    "    tp = conf_matrix[0,0]\n",
    "    fp = conf_matrix[1,0]\n",
    "    fn = conf_matrix[0,1]\n",
    "    print(f\"TP: {tp}, FP: {fp}, FN: {fn}\")\n",
    "    print(f\"Precision: {tp/(tp+fp)}, Recall: {tp/(tp+fn)}\")\n",
    "    accuracy = 100 * correct / total\n",
    "    print(f\"Accuracy for {save_path}: {accuracy}\")\n",
    "    plt.show()"
   ]
  },
  {
   "cell_type": "code",
   "execution_count": 20,
   "metadata": {},
   "outputs": [
    {
     "name": "stdout",
     "output_type": "stream",
     "text": [
      "Successfully Loaded Saved Model\n"
     ]
    },
    {
     "name": "stderr",
     "output_type": "stream",
     "text": [
      "testing: 100%|███████████████████████████████████████████████████████████████████████████| 9/9 [00:01<00:00,  5.38it/s]"
     ]
    },
    {
     "name": "stdout",
     "output_type": "stream",
     "text": [
      "Total test time: 1.6876285076141357   Time per sample: 0.003257970091919181\n",
      "ROC curve area: 0.9990159828244275\n",
      "[[256   6]\n",
      " [  4 252]]\n",
      "262 frames don't have pedestrian, 256 frames have pedestrian\n",
      "TP: 256, FP: 4, FN: 6\n",
      "Precision: 0.9846153846153847, Recall: 0.9770992366412213\n",
      "Accuracy for ./checkpoints/resnet18_HOG_fd_gpu: 98.06949806949807\n"
     ]
    },
    {
     "name": "stderr",
     "output_type": "stream",
     "text": [
      "\n"
     ]
    },
    {
     "data": {
      "image/png": "[encoded data removed]",
      "text/plain": [
       "<Figure size 640x480 with 1 Axes>"
      ]
     },
     "metadata": {},
     "output_type": "display_data"
    }
   ],
   "source": [
    "model = torchvision.models.resnet18(weights = None)\n",
    "model.conv1 = torch.nn.Conv2d(2*2*9, 64, kernel_size=(7, 7), stride=(2, 2), padding=(3, 3), bias=False)\n",
    "model.fc = torch.nn.Linear(in_features=512, out_features=2, bias=True)\n",
    "model = torch.nn.DataParallel(model)\n",
    "try:\n",
    "    model.load_state_dict(torch.load(save_path))\n",
    "    print(\"Successfully Loaded Saved Model\")\n",
    "except Exception as error:\n",
    "    print(\"Failed to load Saved Model\")\n",
    "    print(error)\n",
    "model.to(device)\n",
    "\n",
    "test(model, test_dataloader, save_path, \"HOG\")"
   ]
  },
  {
   "cell_type": "code",
   "execution_count": 23,
   "metadata": {},
   "outputs": [
    {
     "data": {
      "text/plain": [
       "<matplotlib.legend.Legend at 0x142ecbbb3d0>"
      ]
     },
     "execution_count": 23,
     "metadata": {},
     "output_type": "execute_result"
    },
    {
     "data": {
      "image/png": "[encoded data removed]",
      "text/plain": [
       "<Figure size 640x480 with 1 Axes>"
      ]
     },
     "metadata": {},
     "output_type": "display_data"
    }
   ],
   "source": [
    "# Plot convergence\n",
    "plt.plot(train_errors, label='Training loss', color='blue')\n",
    "plt.plot(val_errors, label='Val loss',color='orange')\n",
    "plt.ylabel(\"CE Loss\")\n",
    "plt.xlabel(\"Epoch\")\n",
    "plt.ylim([0,0.6])\n",
    "plt.legend()"
   ]
  },
  {
   "cell_type": "code",
   "execution_count": null,
   "metadata": {},
   "outputs": [],
   "source": []
  }
 ],
 "metadata": {
  "kernelspec": {
   "display_name": "Python 3 (ipykernel)",
   "language": "python",
   "name": "python3"
  },
  "language_info": {
   "codemirror_mode": {
    "name": "ipython",
    "version": 3
   },
   "file_extension": ".py",
   "mimetype": "text/x-python",
   "name": "python",
   "nbconvert_exporter": "python",
   "pygments_lexer": "ipython3",
   "version": "3.11.5"
  }
 },
 "nbformat": 4,
 "nbformat_minor": 4
}
