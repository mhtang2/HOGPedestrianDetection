{
 "cells": [
  {
   "cell_type": "code",
   "execution_count": 5,
   "metadata": {},
   "outputs": [],
   "source": [
    "%matplotlib inline\n",
    "import torch\n",
    "import pandas as pd\n",
    "import numpy as np\n",
    "import gdown\n",
    "import zipfile\n",
    "import json\n",
    "import os\n",
    "from torch.utils.data import Dataset, DataLoader, random_split\n",
    "from torchvision import transforms, utils\n",
    "from torchvision.transforms.functional import to_pil_image\n",
    "from torchvision.io import read_image \n",
    "import torchvision\n",
    "import PIL\n",
    "from sklearn.metrics import confusion_matrix, roc_curve, auc\n",
    "\n",
    "from tqdm import tqdm\n",
    "import matplotlib.pyplot as plt\n"
   ]
  },
  {
   "cell_type": "code",
   "execution_count": 6,
   "metadata": {},
   "outputs": [
    {
     "data": {
      "text/plain": [
       "'cpu'"
      ]
     },
     "execution_count": 6,
     "metadata": {},
     "output_type": "execute_result"
    }
   ],
   "source": [
    "device = 'cuda' if torch.cuda.is_available() else 'cpu'\n",
    "device"
   ]
  },
  {
   "cell_type": "markdown",
   "metadata": {},
   "source": [
    "# Load dataset"
   ]
  },
  {
   "cell_type": "code",
   "execution_count": 7,
   "metadata": {},
   "outputs": [],
   "source": [
    "def select_equal_samples(data, label_column='label'):\n",
    "    \"\"\" Select equal # of pos/neg samples \"\"\"\n",
    "    positive_samples = data[data[label_column] == True]\n",
    "    negative_samples = data[data[label_column] == False]\n",
    "\n",
    "    # Determine the number of samples to select (minimum of positive and negative samples)\n",
    "    num_samples = min(len(positive_samples), len(negative_samples))\n",
    "\n",
    "    # Randomly select equal number of positive and negative samples without replacement\n",
    "    selected_positive_samples = positive_samples.sample(n=num_samples, random_state=42, replace=False)\n",
    "    selected_negative_samples = negative_samples.sample(n=num_samples, random_state=42, replace=False)\n",
    "\n",
    "    # Concatenate the selected samples\n",
    "    selected_samples = pd.concat([selected_positive_samples, selected_negative_samples])\n",
    "\n",
    "    return selected_samples"
   ]
  },
  {
   "cell_type": "code",
   "execution_count": 29,
   "metadata": {},
   "outputs": [],
   "source": [
    "class HOG_PedestrianClassificationDataset(Dataset):\n",
    "\n",
    "    def __init__(self, labels_csv, root_dir, balance_labels=True, transform=None):\n",
    "        self.labels = pd.read_csv(labels_csv)\n",
    "        if balance_labels:\n",
    "            self.labels = select_equal_samples(self.labels)\n",
    "        self.root_dir = root_dir\n",
    "        self.transform = transform\n",
    "        self.class_to_idx = {True: 1, False: 0}\n",
    "        # self.image_files = sorted(self.labels['image'])\n",
    "\n",
    "    def __len__(self):\n",
    "        return len(self.labels)\n",
    "\n",
    "    def __getitem__(self, idx):\n",
    "        row = self.labels.iloc[idx]\n",
    "        image_name = row['image'] + \".npy\"\n",
    "        image_name = os.path.join(self.root_dir, image_name) \n",
    "        image = np.load(image_name)\n",
    "        image = image.reshape(image.shape[0], image.shape[1], -1) # flatten last 3 dimensions\n",
    "        image = torch.from_numpy(image.transpose((2,0,1))).float()\n",
    "        label = self.class_to_idx[row['label']]\n",
    "        if self.transform:\n",
    "            image = self.transform(image)\n",
    "        return (image, label)"
   ]
  },
  {
   "cell_type": "code",
   "execution_count": 30,
   "metadata": {},
   "outputs": [
    {
     "name": "stdout",
     "output_type": "stream",
     "text": [
      "Dataset len:  5174\n",
      "torch.Size([36, 23, 35])\n"
     ]
    }
   ],
   "source": [
    "dataset = HOG_PedestrianClassificationDataset(\"./processed_labels.csv\",\"./road-waymo/hog-fd/\", balance_labels=True, transform = None)\n",
    "print(f\"Dataset len:  {len(dataset)}\")\n",
    "\n",
    "sample = dataset[5000]\n",
    "print(sample[0].shape)\n",
    "# to_pil_image(sample[0])"
   ]
  },
  {
   "cell_type": "code",
   "execution_count": 31,
   "metadata": {},
   "outputs": [],
   "source": [
    "# Split training and testing\n",
    "train_ratio = 0.8\n",
    "val_ratio = 0.1\n",
    "\n",
    "dataset_size = len(dataset)\n",
    "train_size = int(train_ratio * dataset_size)\n",
    "val_size = int(val_ratio * dataset_size)\n",
    "test_size = dataset_size - train_size - val_size\n",
    "\n",
    "# Use random_split to split the dataset into training and testing sets.\n",
    "train_dataset, val_dataset, test_dataset = random_split(dataset, [train_size, val_size, test_size])"
   ]
  },
  {
   "cell_type": "code",
   "execution_count": 32,
   "metadata": {},
   "outputs": [],
   "source": [
    "batch_size = 64\n",
    "train_dataloader = DataLoader(train_dataset, batch_size=batch_size, shuffle=True)\n",
    "val_dataloader = DataLoader(val_dataset, batch_size=batch_size, shuffle=True)\n",
    "test_dataloader = DataLoader(test_dataset, batch_size=batch_size, shuffle=True)"
   ]
  },
  {
   "cell_type": "markdown",
   "metadata": {},
   "source": [
    "# Experiments"
   ]
  },
  {
   "cell_type": "code",
   "execution_count": 33,
   "metadata": {},
   "outputs": [],
   "source": [
    "num_epoch = 10 # TODO: change num_epoch to like 10 or 15 or something\n",
    "def train(model, train_dataloader, val_dataloader, save_path):\n",
    "    \n",
    "    criterion = torch.nn.CrossEntropyLoss()\n",
    "    optimizer =  torch.optim.SGD(model.parameters(), lr=0.001, momentum=0.9)\n",
    "\n",
    "    best_accuracy = 0.0\n",
    "    for epoch in tqdm(range(num_epoch), desc=\"epochs\"):  # loop over the dataset multiple times\n",
    "        model.train()\n",
    "        for train_data in tqdm(train_dataloader, desc=\"training 1 epoch\"):\n",
    "            # get the inputs; data is a list of [inputs, labels]\n",
    "            inputs, labels = train_data\n",
    "\n",
    "            inputs = inputs.to(device)\n",
    "            labels = labels.to(device)\n",
    "\n",
    "            # zero the parameter gradients\n",
    "            optimizer.zero_grad()\n",
    "\n",
    "            # forward + backward + optimize\n",
    "            outputs = model(inputs)\n",
    "            loss = criterion(outputs, labels)\n",
    "            loss.backward()\n",
    "            optimizer.step()\n",
    "            # break # TODO: delete this\n",
    "        \n",
    "        # Validate\n",
    "        correct = 0\n",
    "        total = 0\n",
    "        model.eval()\n",
    "        all_predicted = torch.tensor([]).to(device)\n",
    "        all_labels = torch.tensor([]).to(device)\n",
    "        all_pred_probs = torch.tensor([]).to(device)\n",
    "        with torch.no_grad():\n",
    "            for images, labels in tqdm(val_dataloader, desc=\"Validating\"):\n",
    "                images = images.to(device)\n",
    "                labels = labels.to(device)\n",
    "\n",
    "                # calculate outputs by running images through the network\n",
    "                outputs = model(images)\n",
    "                # the class with the highest energy is what we choose as prediction\n",
    "                _, predicted = torch.max(outputs.data, 1)\n",
    "                total += labels.size(0)\n",
    "                correct += (predicted == labels).sum().item()\n",
    "                all_predicted = torch.cat((all_predicted, predicted))\n",
    "                all_labels = torch.cat((all_labels, labels))\n",
    "                all_pred_probs = torch.cat((all_pred_probs, outputs.data))\n",
    "                # break # TODO: delete this\n",
    "\n",
    "\n",
    "        conf_matrix = confusion_matrix(all_labels.cpu(), all_predicted.cpu())\n",
    "        print(\"Val confusion matrix:\")\n",
    "        print(conf_matrix)\n",
    "        print(f\"{conf_matrix[0].sum().item()} frames don't have pedestrian, {conf_matrix[1].sum().item()} frames have pedestrian\")\n",
    "        \n",
    "        tp = conf_matrix[0,0]\n",
    "        fp = conf_matrix[1,0]\n",
    "        fn = conf_matrix[0,1]\n",
    "        print(f\"TP: {tp}, FP: {fp}, FN: {fn}\")\n",
    "        print(f\"Precision: {tp/(tp+fp)}, Recall: {tp/(tp+fn)}\")\n",
    "\n",
    "        accuracy = 100 * correct / total\n",
    "        if accuracy > best_accuracy:\n",
    "            best_accuracy = accuracy\n",
    "            print(f\"Epoch {epoch}: Saving model to {save_path} with val accuracy {accuracy}%\")\n",
    "            torch.save(model.state_dict(), save_path)"
   ]
  },
  {
   "cell_type": "code",
   "execution_count": 34,
   "metadata": {},
   "outputs": [
    {
     "name": "stderr",
     "output_type": "stream",
     "text": [
      "epochs:   0%|          | 0/10 [00:00<?, ?it/s]"
     ]
    },
    {
     "name": "stdout",
     "output_type": "stream",
     "text": [
      "Failed to load Saved Model\n",
      "[Errno 2] No such file or directory: './checkpoints/resnet18_HOG_fd'\n"
     ]
    },
    {
     "name": "stderr",
     "output_type": "stream",
     "text": [
      "training 1 epoch: 100%|██████████| 65/65 [00:52<00:00,  1.25it/s]\n",
      "Validating: 100%|██████████| 9/9 [00:02<00:00,  3.67it/s]\n",
      "epochs:  10%|█         | 1/10 [00:54<08:12, 54.70s/it]"
     ]
    },
    {
     "name": "stdout",
     "output_type": "stream",
     "text": [
      "Val confusion matrix:\n",
      "[[245  22]\n",
      " [ 34 216]]\n",
      "267 frames don't have pedestrian, 250 frames have pedestrian\n",
      "TP: 245, FP: 34, FN: 22\n",
      "Precision: 0.8781362007168458, Recall: 0.9176029962546817\n",
      "Epoch 0: Saving model to ./checkpoints/resnet18_HOG_fd with val accuracy 89.16827852998065%\n"
     ]
    },
    {
     "name": "stderr",
     "output_type": "stream",
     "text": [
      "training 1 epoch: 100%|██████████| 65/65 [00:49<00:00,  1.31it/s]\n",
      "Validating: 100%|██████████| 9/9 [00:02<00:00,  3.64it/s]\n",
      "epochs:  20%|██        | 2/10 [01:47<07:07, 53.38s/it]"
     ]
    },
    {
     "name": "stdout",
     "output_type": "stream",
     "text": [
      "Val confusion matrix:\n",
      "[[256  11]\n",
      " [  8 242]]\n",
      "267 frames don't have pedestrian, 250 frames have pedestrian\n",
      "TP: 256, FP: 8, FN: 11\n",
      "Precision: 0.9696969696969697, Recall: 0.9588014981273408\n",
      "Epoch 1: Saving model to ./checkpoints/resnet18_HOG_fd with val accuracy 96.32495164410058%\n"
     ]
    },
    {
     "name": "stderr",
     "output_type": "stream",
     "text": [
      "training 1 epoch: 100%|██████████| 65/65 [00:50<00:00,  1.29it/s]\n",
      "Validating: 100%|██████████| 9/9 [00:02<00:00,  3.91it/s]\n",
      "epochs:  30%|███       | 3/10 [02:39<06:11, 53.12s/it]"
     ]
    },
    {
     "name": "stdout",
     "output_type": "stream",
     "text": [
      "Val confusion matrix:\n",
      "[[262   5]\n",
      " [ 10 240]]\n",
      "267 frames don't have pedestrian, 250 frames have pedestrian\n",
      "TP: 262, FP: 10, FN: 5\n",
      "Precision: 0.9632352941176471, Recall: 0.9812734082397003\n",
      "Epoch 2: Saving model to ./checkpoints/resnet18_HOG_fd with val accuracy 97.09864603481624%\n"
     ]
    },
    {
     "name": "stderr",
     "output_type": "stream",
     "text": [
      "training 1 epoch: 100%|██████████| 65/65 [00:53<00:00,  1.21it/s]\n",
      "Validating: 100%|██████████| 9/9 [00:02<00:00,  3.63it/s]\n"
     ]
    },
    {
     "name": "stdout",
     "output_type": "stream",
     "text": [
      "Val confusion matrix:\n",
      "[[257  10]\n",
      " [  4 246]]\n",
      "267 frames don't have pedestrian, 250 frames have pedestrian\n",
      "TP: 257, FP: 4, FN: 10\n",
      "Precision: 0.9846743295019157, Recall: 0.9625468164794008\n",
      "Epoch 3: Saving model to ./checkpoints/resnet18_HOG_fd with val accuracy 97.29206963249517%\n"
     ]
    },
    {
     "name": "stderr",
     "output_type": "stream",
     "text": [
      "training 1 epoch: 100%|██████████| 65/65 [00:54<00:00,  1.20it/s]\n",
      "Validating: 100%|██████████| 9/9 [00:02<00:00,  3.60it/s]\n"
     ]
    },
    {
     "name": "stdout",
     "output_type": "stream",
     "text": [
      "Val confusion matrix:\n",
      "[[259   8]\n",
      " [  3 247]]\n",
      "267 frames don't have pedestrian, 250 frames have pedestrian\n",
      "TP: 259, FP: 3, FN: 8\n",
      "Precision: 0.9885496183206107, Recall: 0.9700374531835206\n",
      "Epoch 4: Saving model to ./checkpoints/resnet18_HOG_fd with val accuracy 97.87234042553192%\n"
     ]
    },
    {
     "name": "stderr",
     "output_type": "stream",
     "text": [
      "training 1 epoch: 100%|██████████| 65/65 [00:51<00:00,  1.26it/s]\n",
      "Validating: 100%|██████████| 9/9 [00:02<00:00,  3.94it/s]\n",
      "epochs:  60%|██████    | 6/10 [05:27<03:39, 54.92s/it]"
     ]
    },
    {
     "name": "stdout",
     "output_type": "stream",
     "text": [
      "Val confusion matrix:\n",
      "[[258   9]\n",
      " [  3 247]]\n",
      "267 frames don't have pedestrian, 250 frames have pedestrian\n",
      "TP: 258, FP: 3, FN: 9\n",
      "Precision: 0.9885057471264368, Recall: 0.9662921348314607\n"
     ]
    },
    {
     "name": "stderr",
     "output_type": "stream",
     "text": [
      "training 1 epoch: 100%|██████████| 65/65 [00:49<00:00,  1.32it/s]\n",
      "Validating: 100%|██████████| 9/9 [00:02<00:00,  3.67it/s]\n",
      "epochs:  70%|███████   | 7/10 [06:19<02:41, 53.86s/it]"
     ]
    },
    {
     "name": "stdout",
     "output_type": "stream",
     "text": [
      "Val confusion matrix:\n",
      "[[257  10]\n",
      " [  3 247]]\n",
      "267 frames don't have pedestrian, 250 frames have pedestrian\n",
      "TP: 257, FP: 3, FN: 10\n",
      "Precision: 0.9884615384615385, Recall: 0.9625468164794008\n"
     ]
    },
    {
     "name": "stderr",
     "output_type": "stream",
     "text": [
      "training 1 epoch: 100%|██████████| 65/65 [00:49<00:00,  1.33it/s]\n",
      "Validating: 100%|██████████| 9/9 [00:02<00:00,  3.68it/s]\n",
      "epochs:  80%|████████  | 8/10 [07:10<01:46, 53.11s/it]"
     ]
    },
    {
     "name": "stdout",
     "output_type": "stream",
     "text": [
      "Val confusion matrix:\n",
      "[[259   8]\n",
      " [  3 247]]\n",
      "267 frames don't have pedestrian, 250 frames have pedestrian\n",
      "TP: 259, FP: 3, FN: 8\n",
      "Precision: 0.9885496183206107, Recall: 0.9700374531835206\n"
     ]
    },
    {
     "name": "stderr",
     "output_type": "stream",
     "text": [
      "training 1 epoch: 100%|██████████| 65/65 [00:49<00:00,  1.33it/s]\n",
      "Validating: 100%|██████████| 9/9 [00:02<00:00,  3.88it/s]\n",
      "epochs:  90%|█████████ | 9/10 [08:02<00:52, 52.56s/it]"
     ]
    },
    {
     "name": "stdout",
     "output_type": "stream",
     "text": [
      "Val confusion matrix:\n",
      "[[258   9]\n",
      " [  2 248]]\n",
      "267 frames don't have pedestrian, 250 frames have pedestrian\n",
      "TP: 258, FP: 2, FN: 9\n",
      "Precision: 0.9923076923076923, Recall: 0.9662921348314607\n"
     ]
    },
    {
     "name": "stderr",
     "output_type": "stream",
     "text": [
      "training 1 epoch: 100%|██████████| 65/65 [00:49<00:00,  1.33it/s]\n",
      "Validating: 100%|██████████| 9/9 [00:02<00:00,  3.82it/s]\n",
      "epochs: 100%|██████████| 10/10 [08:53<00:00, 53.35s/it]"
     ]
    },
    {
     "name": "stdout",
     "output_type": "stream",
     "text": [
      "Val confusion matrix:\n",
      "[[259   8]\n",
      " [  3 247]]\n",
      "267 frames don't have pedestrian, 250 frames have pedestrian\n",
      "TP: 259, FP: 3, FN: 8\n",
      "Precision: 0.9885496183206107, Recall: 0.9700374531835206\n"
     ]
    },
    {
     "name": "stderr",
     "output_type": "stream",
     "text": [
      "\n"
     ]
    }
   ],
   "source": [
    "save_path = \"./checkpoints/resnet18_HOG_fd\"\n",
    "\n",
    "model = torchvision.models.resnet18(weights = None)\n",
    "model.conv1 = torch.nn.Conv2d(2*2*9, 64, kernel_size=(7, 7), stride=(2, 2), padding=(3, 3), bias=False)\n",
    "model.fc = torch.nn.Linear(in_features=512, out_features=2, bias=True)\n",
    "model = torch.nn.DataParallel(model)\n",
    "\n",
    "try:\n",
    "    model.load_state_dict(torch.load(save_path))\n",
    "    print(\"Successfully Loaded Saved Model\")\n",
    "except Exception as error:\n",
    "    print(\"Failed to load Saved Model\")\n",
    "    print(error)\n",
    "model.to(device)\n",
    "\n",
    "train(model, train_dataloader, val_dataloader, save_path)"
   ]
  },
  {
   "cell_type": "code",
   "execution_count": 35,
   "metadata": {},
   "outputs": [],
   "source": [
    "def test(model, test_dataloader, save_path, test_type):\n",
    "\n",
    "    correct = 0\n",
    "    total = 0\n",
    "    model.eval()\n",
    "    all_predicted = torch.tensor([]).to(device)\n",
    "    all_labels = torch.tensor([]).to(device)\n",
    "    all_pred_probs = torch.tensor([]).to(device)\n",
    "    # since we're not training, we don't need to calculate the gradients for our outputs\n",
    "    with torch.no_grad():\n",
    "        for images, labels in tqdm(test_dataloader, desc=\"testing\"):\n",
    "            images = images.to(device)\n",
    "            labels = labels.to(device)\n",
    "\n",
    "            # calculate outputs by running images through the network\n",
    "            outputs = model(images)\n",
    "\n",
    "            # the class with the highest energy is what we choose as prediction\n",
    "            _, predicted = torch.max(outputs.data, 1)\n",
    "            total += labels.size(0)\n",
    "            correct += (predicted == labels).sum().item()\n",
    "            all_predicted = torch.cat((all_predicted, predicted))\n",
    "            all_labels = torch.cat((all_labels, labels))\n",
    "            all_pred_probs = torch.cat((all_pred_probs, outputs.data))\n",
    "            # break # TODO: remove this\n",
    "\n",
    "    # Let's say y_true is your true binary labels and y_pred_probs is the predicted probabilities for the positive class\n",
    "    # You should replace them with your actual variables\n",
    "\n",
    "    # Compute ROC curve and ROC area for each class\n",
    "    fpr, tpr, _ = roc_curve(all_labels.cpu(), all_pred_probs[:,1].cpu(), pos_label=1)\n",
    "    roc_auc = auc(fpr, tpr)\n",
    "    print(\"ROC curve area:\", roc_auc)\n",
    "\n",
    "    # Plotting the ROC curve\n",
    "    plt.figure()\n",
    "    lw = 2\n",
    "    plt.plot(fpr, tpr, color='darkorange', lw=lw, label='ROC curve (area = %0.2f)' % roc_auc)\n",
    "    plt.plot([0, 1], [0, 1], color='navy', lw=lw, linestyle='--')\n",
    "    plt.xlim([0.0, 1.0])\n",
    "    plt.ylim([0.0, 1.05])\n",
    "    plt.xlabel('False Positive Rate')\n",
    "    plt.ylabel('True Positive Rate')\n",
    "    plt.legend(loc=\"lower right\")\n",
    "\n",
    "    conf_matrix = confusion_matrix(all_labels.cpu(), all_predicted.cpu())\n",
    "    print(conf_matrix)\n",
    "    print(f\"{conf_matrix[0].sum().item()} frames don't have pedestrian, {conf_matrix[1].sum().item()} frames have pedestrian\")\n",
    "    tp = conf_matrix[0,0]\n",
    "    fp = conf_matrix[1,0]\n",
    "    fn = conf_matrix[0,1]\n",
    "    print(f\"TP: {tp}, FP: {fp}, FN: {fn}\")\n",
    "    print(f\"Precision: {tp/(tp+fp)}, Recall: {tp/(tp+fn)}\")\n",
    "    accuracy = 100 * correct / total\n",
    "    print(f\"Accuracy for {save_path}: {accuracy}\")\n",
    "    plt.show()"
   ]
  },
  {
   "cell_type": "code",
   "execution_count": 36,
   "metadata": {},
   "outputs": [
    {
     "name": "stderr",
     "output_type": "stream",
     "text": [
      "testing:   0%|          | 0/9 [00:00<?, ?it/s]"
     ]
    },
    {
     "name": "stdout",
     "output_type": "stream",
     "text": [
      "Successfully Loaded Saved Model\n"
     ]
    },
    {
     "name": "stderr",
     "output_type": "stream",
     "text": [
      "testing: 100%|██████████| 9/9 [00:02<00:00,  3.55it/s]\n"
     ]
    },
    {
     "name": "stdout",
     "output_type": "stream",
     "text": [
      "ROC curve area: 0.99606393129771\n",
      "[[251   5]\n",
      " [  4 258]]\n",
      "256 frames don't have pedestrian, 262 frames have pedestrian\n",
      "TP: 251, FP: 4, FN: 5\n",
      "Precision: 0.984313725490196, Recall: 0.98046875\n",
      "Accuracy for ./checkpoints/resnet18_HOG_fd: 98.26254826254826\n"
     ]
    },
    {
     "data": {
      "image/png": "[encoded data removed]",
      "text/plain": [
       "<Figure size 432x288 with 1 Axes>"
      ]
     },
     "metadata": {
      "needs_background": "light"
     },
     "output_type": "display_data"
    }
   ],
   "source": [
    "model = torchvision.models.resnet18(weights = None)\n",
    "model.conv1 = torch.nn.Conv2d(2*2*9, 64, kernel_size=(7, 7), stride=(2, 2), padding=(3, 3), bias=False)\n",
    "model.fc = torch.nn.Linear(in_features=512, out_features=2, bias=True)\n",
    "model = torch.nn.DataParallel(model)\n",
    "try:\n",
    "    model.load_state_dict(torch.load(save_path))\n",
    "    print(\"Successfully Loaded Saved Model\")\n",
    "except Exception as error:\n",
    "    print(\"Failed to load Saved Model\")\n",
    "    print(error)\n",
    "model.to(device)\n",
    "\n",
    "test(model, test_dataloader, save_path, \"RGB\")"
   ]
  },
  {
   "cell_type": "code",
   "execution_count": null,
   "metadata": {},
   "outputs": [],
   "source": []
  }
 ],
 "metadata": {
  "kernelspec": {
   "display_name": "Python 3",
   "language": "python",
   "name": "python3"
  },
  "language_info": {
   "codemirror_mode": {
    "name": "ipython",
    "version": 3
   },
   "file_extension": ".py",
   "mimetype": "text/x-python",
   "name": "python",
   "nbconvert_exporter": "python",
   "pygments_lexer": "ipython3",
   "version": "3.9.1"
  }
 },
 "nbformat": 4,
 "nbformat_minor": 2
}
